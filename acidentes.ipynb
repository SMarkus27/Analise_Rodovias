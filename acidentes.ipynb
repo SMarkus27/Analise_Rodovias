{
 "cells": [
  {
   "cell_type": "markdown",
   "id": "92f329f0",
   "metadata": {},
   "source": [
    "# Análise de acidentes em rodovias federais entre 2017-2021\n",
    "01 de fevereiro,2022"
   ]
  },
  {
   "cell_type": "markdown",
   "id": "8e3417cf",
   "metadata": {},
   "source": [
    "## 1. Descrição do problema"
   ]
  },
  {
   "cell_type": "markdown",
   "id": "9bead262",
   "metadata": {},
   "source": []
  },
  {
   "cell_type": "markdown",
   "id": "e95fa7ea",
   "metadata": {},
   "source": [
    "## 2. Carregando os dados"
   ]
  },
  {
   "cell_type": "markdown",
   "id": "016836eb",
   "metadata": {},
   "source": [
    "### 2.1 Importando as bibliotecas necessárias\n",
    "Devemos começar o nosso projeto, importando todas as bilbiotecas necessárias para a realização das fases iniciais de exploração, e transformação dos dados (Data Munging)."
   ]
  },
  {
   "cell_type": "code",
   "execution_count": 1,
   "id": "9f2f9336",
   "metadata": {},
   "outputs": [],
   "source": [
    "import pandas as pd\n",
    "import numpy as np\n",
    "import plotly.graph_objects as go\n",
    "import re\n",
    "import os\n",
    "from datetime import datetime as dt"
   ]
  },
  {
   "cell_type": "markdown",
   "id": "a504eb1b",
   "metadata": {},
   "source": [
    "### 2.2 Carregando dados"
   ]
  },
  {
   "cell_type": "code",
   "execution_count": 2,
   "id": "36d4b7d6",
   "metadata": {},
   "outputs": [
    {
     "data": {
      "text/plain": [
       "['acidentes2021_todas_causas_tipos.csv',\n",
       " 'acidentes2019_todas_causas_tipos.csv',\n",
       " 'acidentes2018_todas_causas_tipos.csv',\n",
       " 'acidentes2017_todas_causas_tipos.csv',\n",
       " 'acidentes2020_todas_causas_tipos.csv']"
      ]
     },
     "execution_count": 2,
     "metadata": {},
     "output_type": "execute_result"
    }
   ],
   "source": [
    "# Verificando os datasets disponíveis.\n",
    "datasets = [file for file in os.listdir('./datasets')]\n",
    "datasets"
   ]
  },
  {
   "cell_type": "markdown",
   "id": "cb601c7c",
   "metadata": {},
   "source": [
    "Como podemos ver temos um dataset para cada ano, o que pode dificultar um pouco as análises que serão feitas. Desse modo, vamos unir todos os datasets em um único dataset, assim vamos ter mais facilidade na manipulação dos dados."
   ]
  },
  {
   "cell_type": "markdown",
   "id": "fdd1d894",
   "metadata": {},
   "source": [
    "### 2.2.1 Concatenando os datasets"
   ]
  },
  {
   "cell_type": "code",
   "execution_count": 3,
   "id": "105eb5c3",
   "metadata": {},
   "outputs": [],
   "source": [
    "# Temos que colocar o encoding = 'latin-1' para ler caracters latinos nos csv de 2017,2018,2019,2021\n",
    "\n",
    "# Cria um dataframe nulo\n",
    "df_unico = pd.DataFrame()\n",
    "\n",
    "# Remove o ano 2020 para aplicar o encoding\n",
    "datasets.pop()\n",
    "\n",
    "# Concatena todos os datasets\n",
    "for dataset in datasets:\n",
    "    df = pd.read_csv('./datasets/' + dataset, sep=';' ,encoding='latin-1')\n",
    "    df_unico = pd.concat([df_unico,df])\n",
    "\n",
    "# Concatena o ano 2020\n",
    "df_2020 = pd.read_csv('./datasets/acidentes2020_todas_causas_tipos.csv', sep=';')\n",
    "df_unico = pd.concat([df_unico,df_2020])\n",
    "df_unico.sort_values('data_inversa',inplace=True)\n"
   ]
  },
  {
   "cell_type": "markdown",
   "id": "b7accd3a",
   "metadata": {},
   "source": [
    "Podemos ver pela coluna data_inversa que temos as data desde 2017-01-01 até 2021-10-31, mostrando que a concatenação funcionou e temos um único dataset"
   ]
  },
  {
   "cell_type": "code",
   "execution_count": 4,
   "id": "e3b7b992",
   "metadata": {},
   "outputs": [
    {
     "data": {
      "text/html": [
       "<div>\n",
       "<style scoped>\n",
       "    .dataframe tbody tr th:only-of-type {\n",
       "        vertical-align: middle;\n",
       "    }\n",
       "\n",
       "    .dataframe tbody tr th {\n",
       "        vertical-align: top;\n",
       "    }\n",
       "\n",
       "    .dataframe thead th {\n",
       "        text-align: right;\n",
       "    }\n",
       "</style>\n",
       "<table border=\"1\" class=\"dataframe\">\n",
       "  <thead>\n",
       "    <tr style=\"text-align: right;\">\n",
       "      <th></th>\n",
       "      <th>id</th>\n",
       "      <th>pesid</th>\n",
       "      <th>data_inversa</th>\n",
       "      <th>dia_semana</th>\n",
       "      <th>horario</th>\n",
       "      <th>uf</th>\n",
       "      <th>br</th>\n",
       "      <th>km</th>\n",
       "      <th>municipio</th>\n",
       "      <th>causa_principal</th>\n",
       "      <th>...</th>\n",
       "      <th>sexo</th>\n",
       "      <th>ilesos</th>\n",
       "      <th>feridos_leves</th>\n",
       "      <th>feridos_graves</th>\n",
       "      <th>mortos</th>\n",
       "      <th>latitude</th>\n",
       "      <th>longitude</th>\n",
       "      <th>regional</th>\n",
       "      <th>delegacia</th>\n",
       "      <th>uop</th>\n",
       "    </tr>\n",
       "  </thead>\n",
       "  <tbody>\n",
       "    <tr>\n",
       "      <th>709</th>\n",
       "      <td>225.0</td>\n",
       "      <td>235.0</td>\n",
       "      <td>2017-01-01</td>\n",
       "      <td>domingo</td>\n",
       "      <td>18:30:00</td>\n",
       "      <td>SP</td>\n",
       "      <td>153.0</td>\n",
       "      <td>159</td>\n",
       "      <td>PROMISSAO</td>\n",
       "      <td>Sim</td>\n",
       "      <td>...</td>\n",
       "      <td>Feminino</td>\n",
       "      <td>0</td>\n",
       "      <td>1</td>\n",
       "      <td>0</td>\n",
       "      <td>0</td>\n",
       "      <td>-21,4949</td>\n",
       "      <td>-49,7798</td>\n",
       "      <td>SR-SP</td>\n",
       "      <td>DEL6/07</td>\n",
       "      <td>UOP01/SP</td>\n",
       "    </tr>\n",
       "    <tr>\n",
       "      <th>684</th>\n",
       "      <td>218.0</td>\n",
       "      <td>471.0</td>\n",
       "      <td>2017-01-01</td>\n",
       "      <td>domingo</td>\n",
       "      <td>17:00:00</td>\n",
       "      <td>RS</td>\n",
       "      <td>116.0</td>\n",
       "      <td>304</td>\n",
       "      <td>GUAIBA</td>\n",
       "      <td>Sim</td>\n",
       "      <td>...</td>\n",
       "      <td>Masculino</td>\n",
       "      <td>1</td>\n",
       "      <td>0</td>\n",
       "      <td>0</td>\n",
       "      <td>0</td>\n",
       "      <td>-30,1515</td>\n",
       "      <td>-51,3679</td>\n",
       "      <td>SR-RS</td>\n",
       "      <td>DEL9/2</td>\n",
       "      <td>UOP01/RS</td>\n",
       "    </tr>\n",
       "    <tr>\n",
       "      <th>683</th>\n",
       "      <td>218.0</td>\n",
       "      <td>469.0</td>\n",
       "      <td>2017-01-01</td>\n",
       "      <td>domingo</td>\n",
       "      <td>17:00:00</td>\n",
       "      <td>RS</td>\n",
       "      <td>116.0</td>\n",
       "      <td>304</td>\n",
       "      <td>GUAIBA</td>\n",
       "      <td>Sim</td>\n",
       "      <td>...</td>\n",
       "      <td>Masculino</td>\n",
       "      <td>1</td>\n",
       "      <td>0</td>\n",
       "      <td>0</td>\n",
       "      <td>0</td>\n",
       "      <td>-30,1515</td>\n",
       "      <td>-51,3679</td>\n",
       "      <td>SR-RS</td>\n",
       "      <td>DEL9/2</td>\n",
       "      <td>UOP01/RS</td>\n",
       "    </tr>\n",
       "    <tr>\n",
       "      <th>682</th>\n",
       "      <td>218.0</td>\n",
       "      <td>462.0</td>\n",
       "      <td>2017-01-01</td>\n",
       "      <td>domingo</td>\n",
       "      <td>17:00:00</td>\n",
       "      <td>RS</td>\n",
       "      <td>116.0</td>\n",
       "      <td>304</td>\n",
       "      <td>GUAIBA</td>\n",
       "      <td>Sim</td>\n",
       "      <td>...</td>\n",
       "      <td>Masculino</td>\n",
       "      <td>1</td>\n",
       "      <td>0</td>\n",
       "      <td>0</td>\n",
       "      <td>0</td>\n",
       "      <td>-30,1515</td>\n",
       "      <td>-51,3679</td>\n",
       "      <td>SR-RS</td>\n",
       "      <td>DEL9/2</td>\n",
       "      <td>UOP01/RS</td>\n",
       "    </tr>\n",
       "    <tr>\n",
       "      <th>681</th>\n",
       "      <td>218.0</td>\n",
       "      <td>466.0</td>\n",
       "      <td>2017-01-01</td>\n",
       "      <td>domingo</td>\n",
       "      <td>17:00:00</td>\n",
       "      <td>RS</td>\n",
       "      <td>116.0</td>\n",
       "      <td>304</td>\n",
       "      <td>GUAIBA</td>\n",
       "      <td>Sim</td>\n",
       "      <td>...</td>\n",
       "      <td>Masculino</td>\n",
       "      <td>1</td>\n",
       "      <td>0</td>\n",
       "      <td>0</td>\n",
       "      <td>0</td>\n",
       "      <td>-30,1515</td>\n",
       "      <td>-51,3679</td>\n",
       "      <td>SR-RS</td>\n",
       "      <td>DEL9/2</td>\n",
       "      <td>UOP01/RS</td>\n",
       "    </tr>\n",
       "    <tr>\n",
       "      <th>...</th>\n",
       "      <td>...</td>\n",
       "      <td>...</td>\n",
       "      <td>...</td>\n",
       "      <td>...</td>\n",
       "      <td>...</td>\n",
       "      <td>...</td>\n",
       "      <td>...</td>\n",
       "      <td>...</td>\n",
       "      <td>...</td>\n",
       "      <td>...</td>\n",
       "      <td>...</td>\n",
       "      <td>...</td>\n",
       "      <td>...</td>\n",
       "      <td>...</td>\n",
       "      <td>...</td>\n",
       "      <td>...</td>\n",
       "      <td>...</td>\n",
       "      <td>...</td>\n",
       "      <td>...</td>\n",
       "      <td>...</td>\n",
       "      <td>...</td>\n",
       "    </tr>\n",
       "    <tr>\n",
       "      <th>365440</th>\n",
       "      <td>393135.0</td>\n",
       "      <td>877791.0</td>\n",
       "      <td>2021-10-31</td>\n",
       "      <td>domingo</td>\n",
       "      <td>18:30:00</td>\n",
       "      <td>RJ</td>\n",
       "      <td>116.0</td>\n",
       "      <td>100</td>\n",
       "      <td>GUAPIMIRIM</td>\n",
       "      <td>Não</td>\n",
       "      <td>...</td>\n",
       "      <td>Masculino</td>\n",
       "      <td>0</td>\n",
       "      <td>0</td>\n",
       "      <td>1</td>\n",
       "      <td>0</td>\n",
       "      <td>-22.507074</td>\n",
       "      <td>-42.99693</td>\n",
       "      <td>SR-RJ</td>\n",
       "      <td>UOP04</td>\n",
       "      <td>DEL02</td>\n",
       "    </tr>\n",
       "    <tr>\n",
       "      <th>365441</th>\n",
       "      <td>393135.0</td>\n",
       "      <td>877790.0</td>\n",
       "      <td>2021-10-31</td>\n",
       "      <td>domingo</td>\n",
       "      <td>18:30:00</td>\n",
       "      <td>RJ</td>\n",
       "      <td>116.0</td>\n",
       "      <td>100</td>\n",
       "      <td>GUAPIMIRIM</td>\n",
       "      <td>Não</td>\n",
       "      <td>...</td>\n",
       "      <td>Masculino</td>\n",
       "      <td>1</td>\n",
       "      <td>0</td>\n",
       "      <td>0</td>\n",
       "      <td>0</td>\n",
       "      <td>-22.507074</td>\n",
       "      <td>-42.99693</td>\n",
       "      <td>SR-RJ</td>\n",
       "      <td>UOP04</td>\n",
       "      <td>DEL02</td>\n",
       "    </tr>\n",
       "    <tr>\n",
       "      <th>365442</th>\n",
       "      <td>393135.0</td>\n",
       "      <td>877792.0</td>\n",
       "      <td>2021-10-31</td>\n",
       "      <td>domingo</td>\n",
       "      <td>18:30:00</td>\n",
       "      <td>RJ</td>\n",
       "      <td>116.0</td>\n",
       "      <td>100</td>\n",
       "      <td>GUAPIMIRIM</td>\n",
       "      <td>Sim</td>\n",
       "      <td>...</td>\n",
       "      <td>Masculino</td>\n",
       "      <td>1</td>\n",
       "      <td>0</td>\n",
       "      <td>0</td>\n",
       "      <td>0</td>\n",
       "      <td>-22.507074</td>\n",
       "      <td>-42.99693</td>\n",
       "      <td>SR-RJ</td>\n",
       "      <td>UOP04</td>\n",
       "      <td>DEL02</td>\n",
       "    </tr>\n",
       "    <tr>\n",
       "      <th>365426</th>\n",
       "      <td>393130.0</td>\n",
       "      <td>878766.0</td>\n",
       "      <td>2021-10-31</td>\n",
       "      <td>domingo</td>\n",
       "      <td>17:45:00</td>\n",
       "      <td>MG</td>\n",
       "      <td>40.0</td>\n",
       "      <td>493</td>\n",
       "      <td>ESMERALDAS</td>\n",
       "      <td>Sim</td>\n",
       "      <td>...</td>\n",
       "      <td>Masculino</td>\n",
       "      <td>1</td>\n",
       "      <td>0</td>\n",
       "      <td>0</td>\n",
       "      <td>0</td>\n",
       "      <td>-19.646207</td>\n",
       "      <td>-44.20302</td>\n",
       "      <td>SR-MG</td>\n",
       "      <td>UOP01</td>\n",
       "      <td>DEL02</td>\n",
       "    </tr>\n",
       "    <tr>\n",
       "      <th>364983</th>\n",
       "      <td>393047.0</td>\n",
       "      <td>878757.0</td>\n",
       "      <td>2021-10-31</td>\n",
       "      <td>domingo</td>\n",
       "      <td>07:30:00</td>\n",
       "      <td>RJ</td>\n",
       "      <td>116.0</td>\n",
       "      <td>61</td>\n",
       "      <td>TERESOPOLIS</td>\n",
       "      <td>Não</td>\n",
       "      <td>...</td>\n",
       "      <td>Feminino</td>\n",
       "      <td>0</td>\n",
       "      <td>1</td>\n",
       "      <td>0</td>\n",
       "      <td>0</td>\n",
       "      <td>-22.244185</td>\n",
       "      <td>-42.915753</td>\n",
       "      <td>SR-RJ</td>\n",
       "      <td>UOP01</td>\n",
       "      <td>DEL04</td>\n",
       "    </tr>\n",
       "  </tbody>\n",
       "</table>\n",
       "<p>1767075 rows × 37 columns</p>\n",
       "</div>"
      ],
      "text/plain": [
       "              id     pesid data_inversa dia_semana   horario  uf     br   km  \\\n",
       "709        225.0     235.0   2017-01-01    domingo  18:30:00  SP  153.0  159   \n",
       "684        218.0     471.0   2017-01-01    domingo  17:00:00  RS  116.0  304   \n",
       "683        218.0     469.0   2017-01-01    domingo  17:00:00  RS  116.0  304   \n",
       "682        218.0     462.0   2017-01-01    domingo  17:00:00  RS  116.0  304   \n",
       "681        218.0     466.0   2017-01-01    domingo  17:00:00  RS  116.0  304   \n",
       "...          ...       ...          ...        ...       ...  ..    ...  ...   \n",
       "365440  393135.0  877791.0   2021-10-31    domingo  18:30:00  RJ  116.0  100   \n",
       "365441  393135.0  877790.0   2021-10-31    domingo  18:30:00  RJ  116.0  100   \n",
       "365442  393135.0  877792.0   2021-10-31    domingo  18:30:00  RJ  116.0  100   \n",
       "365426  393130.0  878766.0   2021-10-31    domingo  17:45:00  MG   40.0  493   \n",
       "364983  393047.0  878757.0   2021-10-31    domingo  07:30:00  RJ  116.0   61   \n",
       "\n",
       "          municipio causa_principal  ...       sexo  ilesos feridos_leves  \\\n",
       "709       PROMISSAO             Sim  ...   Feminino       0             1   \n",
       "684          GUAIBA             Sim  ...  Masculino       1             0   \n",
       "683          GUAIBA             Sim  ...  Masculino       1             0   \n",
       "682          GUAIBA             Sim  ...  Masculino       1             0   \n",
       "681          GUAIBA             Sim  ...  Masculino       1             0   \n",
       "...             ...             ...  ...        ...     ...           ...   \n",
       "365440   GUAPIMIRIM             Não  ...  Masculino       0             0   \n",
       "365441   GUAPIMIRIM             Não  ...  Masculino       1             0   \n",
       "365442   GUAPIMIRIM             Sim  ...  Masculino       1             0   \n",
       "365426   ESMERALDAS             Sim  ...  Masculino       1             0   \n",
       "364983  TERESOPOLIS             Não  ...   Feminino       0             1   \n",
       "\n",
       "       feridos_graves mortos   latitude  longitude regional delegacia  \\\n",
       "709                 0      0   -21,4949   -49,7798    SR-SP   DEL6/07   \n",
       "684                 0      0   -30,1515   -51,3679    SR-RS    DEL9/2   \n",
       "683                 0      0   -30,1515   -51,3679    SR-RS    DEL9/2   \n",
       "682                 0      0   -30,1515   -51,3679    SR-RS    DEL9/2   \n",
       "681                 0      0   -30,1515   -51,3679    SR-RS    DEL9/2   \n",
       "...               ...    ...        ...        ...      ...       ...   \n",
       "365440              1      0 -22.507074  -42.99693    SR-RJ     UOP04   \n",
       "365441              0      0 -22.507074  -42.99693    SR-RJ     UOP04   \n",
       "365442              0      0 -22.507074  -42.99693    SR-RJ     UOP04   \n",
       "365426              0      0 -19.646207  -44.20302    SR-MG     UOP01   \n",
       "364983              0      0 -22.244185 -42.915753    SR-RJ     UOP01   \n",
       "\n",
       "             uop  \n",
       "709     UOP01/SP  \n",
       "684     UOP01/RS  \n",
       "683     UOP01/RS  \n",
       "682     UOP01/RS  \n",
       "681     UOP01/RS  \n",
       "...          ...  \n",
       "365440     DEL02  \n",
       "365441     DEL02  \n",
       "365442     DEL02  \n",
       "365426     DEL02  \n",
       "364983     DEL04  \n",
       "\n",
       "[1767075 rows x 37 columns]"
      ]
     },
     "execution_count": 4,
     "metadata": {},
     "output_type": "execute_result"
    }
   ],
   "source": [
    "df_unico"
   ]
  },
  {
   "cell_type": "markdown",
   "id": "02e30656",
   "metadata": {},
   "source": [
    "### 2.2.2 Salvando o novo dataset\n",
    "Podemos salvar o dataset criado e ter um único arquivo, assim podemos manter ou excluir os demais datasets."
   ]
  },
  {
   "cell_type": "code",
   "execution_count": 5,
   "id": "49f17703",
   "metadata": {},
   "outputs": [],
   "source": [
    "df_unico.to_csv('./datasets/df_acidentes.csv')"
   ]
  },
  {
   "cell_type": "markdown",
   "id": "721c4d27",
   "metadata": {},
   "source": [
    "### 2.2.3 Carregando os dados"
   ]
  },
  {
   "cell_type": "code",
   "execution_count": 6,
   "id": "d5d301f1",
   "metadata": {},
   "outputs": [
    {
     "name": "stderr",
     "output_type": "stream",
     "text": [
      "<ipython-input-6-c078316ad4c9>:1: DtypeWarning: Columns (33,34) have mixed types. Specify dtype option on import or set low_memory=False.\n",
      "  df = pd.read_csv('./datasets/df_acidentes.csv')\n"
     ]
    },
    {
     "data": {
      "text/html": [
       "<div>\n",
       "<style scoped>\n",
       "    .dataframe tbody tr th:only-of-type {\n",
       "        vertical-align: middle;\n",
       "    }\n",
       "\n",
       "    .dataframe tbody tr th {\n",
       "        vertical-align: top;\n",
       "    }\n",
       "\n",
       "    .dataframe thead th {\n",
       "        text-align: right;\n",
       "    }\n",
       "</style>\n",
       "<table border=\"1\" class=\"dataframe\">\n",
       "  <thead>\n",
       "    <tr style=\"text-align: right;\">\n",
       "      <th></th>\n",
       "      <th>Unnamed: 0</th>\n",
       "      <th>id</th>\n",
       "      <th>pesid</th>\n",
       "      <th>data_inversa</th>\n",
       "      <th>dia_semana</th>\n",
       "      <th>horario</th>\n",
       "      <th>uf</th>\n",
       "      <th>br</th>\n",
       "      <th>km</th>\n",
       "      <th>municipio</th>\n",
       "      <th>causa_principal</th>\n",
       "      <th>causa_acidente</th>\n",
       "      <th>ordem_tipo_acidente</th>\n",
       "      <th>tipo_acidente</th>\n",
       "      <th>classificacao_acidente</th>\n",
       "      <th>fase_dia</th>\n",
       "      <th>sentido_via</th>\n",
       "      <th>condicao_metereologica</th>\n",
       "      <th>tipo_pista</th>\n",
       "      <th>tracado_via</th>\n",
       "      <th>uso_solo</th>\n",
       "      <th>id_veiculo</th>\n",
       "      <th>tipo_veiculo</th>\n",
       "      <th>marca</th>\n",
       "      <th>ano_fabricacao_veiculo</th>\n",
       "      <th>tipo_envolvido</th>\n",
       "      <th>estado_fisico</th>\n",
       "      <th>idade</th>\n",
       "      <th>sexo</th>\n",
       "      <th>ilesos</th>\n",
       "      <th>feridos_leves</th>\n",
       "      <th>feridos_graves</th>\n",
       "      <th>mortos</th>\n",
       "      <th>latitude</th>\n",
       "      <th>longitude</th>\n",
       "      <th>regional</th>\n",
       "      <th>delegacia</th>\n",
       "      <th>uop</th>\n",
       "    </tr>\n",
       "  </thead>\n",
       "  <tbody>\n",
       "    <tr>\n",
       "      <th>0</th>\n",
       "      <td>709</td>\n",
       "      <td>225.0</td>\n",
       "      <td>235.0</td>\n",
       "      <td>2017-01-01</td>\n",
       "      <td>domingo</td>\n",
       "      <td>18:30:00</td>\n",
       "      <td>SP</td>\n",
       "      <td>153.0</td>\n",
       "      <td>159</td>\n",
       "      <td>PROMISSAO</td>\n",
       "      <td>Sim</td>\n",
       "      <td>Avarias e/ou desgaste excessivo no pneu</td>\n",
       "      <td>1.0</td>\n",
       "      <td>Tombamento</td>\n",
       "      <td>Com Vítimas Feridas</td>\n",
       "      <td>Pleno dia</td>\n",
       "      <td>Crescente</td>\n",
       "      <td>Nublado</td>\n",
       "      <td>Simples</td>\n",
       "      <td>Reta</td>\n",
       "      <td>Não</td>\n",
       "      <td>197.0</td>\n",
       "      <td>Motocicleta</td>\n",
       "      <td>HONDA/CG 125 TITAN KSE</td>\n",
       "      <td>2003.0</td>\n",
       "      <td>Passageiro</td>\n",
       "      <td>Lesões Leves</td>\n",
       "      <td>43.0</td>\n",
       "      <td>Feminino</td>\n",
       "      <td>0</td>\n",
       "      <td>1</td>\n",
       "      <td>0</td>\n",
       "      <td>0</td>\n",
       "      <td>-21,4949</td>\n",
       "      <td>-49,7798</td>\n",
       "      <td>SR-SP</td>\n",
       "      <td>DEL6/07</td>\n",
       "      <td>UOP01/SP</td>\n",
       "    </tr>\n",
       "    <tr>\n",
       "      <th>1</th>\n",
       "      <td>684</td>\n",
       "      <td>218.0</td>\n",
       "      <td>471.0</td>\n",
       "      <td>2017-01-01</td>\n",
       "      <td>domingo</td>\n",
       "      <td>17:00:00</td>\n",
       "      <td>RS</td>\n",
       "      <td>116.0</td>\n",
       "      <td>304</td>\n",
       "      <td>GUAIBA</td>\n",
       "      <td>Sim</td>\n",
       "      <td>Não guardar distância de segurança</td>\n",
       "      <td>1.0</td>\n",
       "      <td>Colisão traseira</td>\n",
       "      <td>Sem Vítimas</td>\n",
       "      <td>Pleno dia</td>\n",
       "      <td>Decrescente</td>\n",
       "      <td>Céu Claro</td>\n",
       "      <td>Simples</td>\n",
       "      <td>Reta</td>\n",
       "      <td>Não</td>\n",
       "      <td>332.0</td>\n",
       "      <td>Micro-ônibus</td>\n",
       "      <td>VW/KOMBI LOTAÇÃO</td>\n",
       "      <td>2011.0</td>\n",
       "      <td>Passageiro</td>\n",
       "      <td>Ileso</td>\n",
       "      <td>43.0</td>\n",
       "      <td>Masculino</td>\n",
       "      <td>1</td>\n",
       "      <td>0</td>\n",
       "      <td>0</td>\n",
       "      <td>0</td>\n",
       "      <td>-30,1515</td>\n",
       "      <td>-51,3679</td>\n",
       "      <td>SR-RS</td>\n",
       "      <td>DEL9/2</td>\n",
       "      <td>UOP01/RS</td>\n",
       "    </tr>\n",
       "    <tr>\n",
       "      <th>2</th>\n",
       "      <td>683</td>\n",
       "      <td>218.0</td>\n",
       "      <td>469.0</td>\n",
       "      <td>2017-01-01</td>\n",
       "      <td>domingo</td>\n",
       "      <td>17:00:00</td>\n",
       "      <td>RS</td>\n",
       "      <td>116.0</td>\n",
       "      <td>304</td>\n",
       "      <td>GUAIBA</td>\n",
       "      <td>Sim</td>\n",
       "      <td>Não guardar distância de segurança</td>\n",
       "      <td>1.0</td>\n",
       "      <td>Colisão traseira</td>\n",
       "      <td>Sem Vítimas</td>\n",
       "      <td>Pleno dia</td>\n",
       "      <td>Decrescente</td>\n",
       "      <td>Céu Claro</td>\n",
       "      <td>Simples</td>\n",
       "      <td>Reta</td>\n",
       "      <td>Não</td>\n",
       "      <td>332.0</td>\n",
       "      <td>Micro-ônibus</td>\n",
       "      <td>VW/KOMBI LOTAÇÃO</td>\n",
       "      <td>2011.0</td>\n",
       "      <td>Condutor</td>\n",
       "      <td>Ileso</td>\n",
       "      <td>72.0</td>\n",
       "      <td>Masculino</td>\n",
       "      <td>1</td>\n",
       "      <td>0</td>\n",
       "      <td>0</td>\n",
       "      <td>0</td>\n",
       "      <td>-30,1515</td>\n",
       "      <td>-51,3679</td>\n",
       "      <td>SR-RS</td>\n",
       "      <td>DEL9/2</td>\n",
       "      <td>UOP01/RS</td>\n",
       "    </tr>\n",
       "    <tr>\n",
       "      <th>3</th>\n",
       "      <td>682</td>\n",
       "      <td>218.0</td>\n",
       "      <td>462.0</td>\n",
       "      <td>2017-01-01</td>\n",
       "      <td>domingo</td>\n",
       "      <td>17:00:00</td>\n",
       "      <td>RS</td>\n",
       "      <td>116.0</td>\n",
       "      <td>304</td>\n",
       "      <td>GUAIBA</td>\n",
       "      <td>Sim</td>\n",
       "      <td>Não guardar distância de segurança</td>\n",
       "      <td>1.0</td>\n",
       "      <td>Colisão traseira</td>\n",
       "      <td>Sem Vítimas</td>\n",
       "      <td>Pleno dia</td>\n",
       "      <td>Decrescente</td>\n",
       "      <td>Céu Claro</td>\n",
       "      <td>Simples</td>\n",
       "      <td>Reta</td>\n",
       "      <td>Não</td>\n",
       "      <td>311.0</td>\n",
       "      <td>Automóvel</td>\n",
       "      <td>FIAT/UNO ELECTRONIC</td>\n",
       "      <td>1993.0</td>\n",
       "      <td>Condutor</td>\n",
       "      <td>Ileso</td>\n",
       "      <td>40.0</td>\n",
       "      <td>Masculino</td>\n",
       "      <td>1</td>\n",
       "      <td>0</td>\n",
       "      <td>0</td>\n",
       "      <td>0</td>\n",
       "      <td>-30,1515</td>\n",
       "      <td>-51,3679</td>\n",
       "      <td>SR-RS</td>\n",
       "      <td>DEL9/2</td>\n",
       "      <td>UOP01/RS</td>\n",
       "    </tr>\n",
       "    <tr>\n",
       "      <th>4</th>\n",
       "      <td>681</td>\n",
       "      <td>218.0</td>\n",
       "      <td>466.0</td>\n",
       "      <td>2017-01-01</td>\n",
       "      <td>domingo</td>\n",
       "      <td>17:00:00</td>\n",
       "      <td>RS</td>\n",
       "      <td>116.0</td>\n",
       "      <td>304</td>\n",
       "      <td>GUAIBA</td>\n",
       "      <td>Sim</td>\n",
       "      <td>Não guardar distância de segurança</td>\n",
       "      <td>1.0</td>\n",
       "      <td>Colisão traseira</td>\n",
       "      <td>Sem Vítimas</td>\n",
       "      <td>Pleno dia</td>\n",
       "      <td>Decrescente</td>\n",
       "      <td>Céu Claro</td>\n",
       "      <td>Simples</td>\n",
       "      <td>Reta</td>\n",
       "      <td>Não</td>\n",
       "      <td>311.0</td>\n",
       "      <td>Automóvel</td>\n",
       "      <td>FIAT/UNO ELECTRONIC</td>\n",
       "      <td>1993.0</td>\n",
       "      <td>Passageiro</td>\n",
       "      <td>Ileso</td>\n",
       "      <td>35.0</td>\n",
       "      <td>Masculino</td>\n",
       "      <td>1</td>\n",
       "      <td>0</td>\n",
       "      <td>0</td>\n",
       "      <td>0</td>\n",
       "      <td>-30,1515</td>\n",
       "      <td>-51,3679</td>\n",
       "      <td>SR-RS</td>\n",
       "      <td>DEL9/2</td>\n",
       "      <td>UOP01/RS</td>\n",
       "    </tr>\n",
       "    <tr>\n",
       "      <th>5</th>\n",
       "      <td>680</td>\n",
       "      <td>217.0</td>\n",
       "      <td>NaN</td>\n",
       "      <td>2017-01-01</td>\n",
       "      <td>domingo</td>\n",
       "      <td>18:10:00</td>\n",
       "      <td>ES</td>\n",
       "      <td>101.0</td>\n",
       "      <td>301,6</td>\n",
       "      <td>VIANA</td>\n",
       "      <td>Sim</td>\n",
       "      <td>Falta de Atenção à Condução</td>\n",
       "      <td>1.0</td>\n",
       "      <td>Colisão traseira</td>\n",
       "      <td>Com Vítimas Feridas</td>\n",
       "      <td>Pleno dia</td>\n",
       "      <td>Decrescente</td>\n",
       "      <td>Céu Claro</td>\n",
       "      <td>Dupla</td>\n",
       "      <td>Reta</td>\n",
       "      <td>Sim</td>\n",
       "      <td>266.0</td>\n",
       "      <td>Semireboque</td>\n",
       "      <td>SR/RODOVALE GOLD 3E</td>\n",
       "      <td>2014.0</td>\n",
       "      <td>Não Informado</td>\n",
       "      <td>Não Informado</td>\n",
       "      <td>NaN</td>\n",
       "      <td>Não Informado</td>\n",
       "      <td>0</td>\n",
       "      <td>0</td>\n",
       "      <td>0</td>\n",
       "      <td>0</td>\n",
       "      <td>-20,37093446</td>\n",
       "      <td>-40,44363284</td>\n",
       "      <td>SR-ES</td>\n",
       "      <td>DEL12/1</td>\n",
       "      <td>UOP01/ES</td>\n",
       "    </tr>\n",
       "    <tr>\n",
       "      <th>6</th>\n",
       "      <td>1113</td>\n",
       "      <td>324.0</td>\n",
       "      <td>403.0</td>\n",
       "      <td>2017-01-01</td>\n",
       "      <td>domingo</td>\n",
       "      <td>08:00:00</td>\n",
       "      <td>AL</td>\n",
       "      <td>101.0</td>\n",
       "      <td>18</td>\n",
       "      <td>JOAQUIM GOMES</td>\n",
       "      <td>Sim</td>\n",
       "      <td>Falta de Atenção à Condução</td>\n",
       "      <td>1.0</td>\n",
       "      <td>Saída de leito carroçável</td>\n",
       "      <td>Com Vítimas Feridas</td>\n",
       "      <td>Pleno dia</td>\n",
       "      <td>Crescente</td>\n",
       "      <td>Céu Claro</td>\n",
       "      <td>Dupla</td>\n",
       "      <td>Curva</td>\n",
       "      <td>Não</td>\n",
       "      <td>347.0</td>\n",
       "      <td>Automóvel</td>\n",
       "      <td>FORD/KA SE 1.0 HA B</td>\n",
       "      <td>2016.0</td>\n",
       "      <td>Passageiro</td>\n",
       "      <td>Lesões Graves</td>\n",
       "      <td>28.0</td>\n",
       "      <td>Feminino</td>\n",
       "      <td>0</td>\n",
       "      <td>0</td>\n",
       "      <td>1</td>\n",
       "      <td>0</td>\n",
       "      <td>-9,00262894</td>\n",
       "      <td>-35,67524672</td>\n",
       "      <td>SR-AL</td>\n",
       "      <td>DEL13/1</td>\n",
       "      <td>UOP01/AL</td>\n",
       "    </tr>\n",
       "    <tr>\n",
       "      <th>7</th>\n",
       "      <td>1116</td>\n",
       "      <td>326.0</td>\n",
       "      <td>2070.0</td>\n",
       "      <td>2017-01-01</td>\n",
       "      <td>domingo</td>\n",
       "      <td>22:30:00</td>\n",
       "      <td>RJ</td>\n",
       "      <td>40.0</td>\n",
       "      <td>84</td>\n",
       "      <td>PETROPOLIS</td>\n",
       "      <td>Sim</td>\n",
       "      <td>Falta de Atenção à Condução</td>\n",
       "      <td>1.0</td>\n",
       "      <td>Saída de leito carroçável</td>\n",
       "      <td>Com Vítimas Feridas</td>\n",
       "      <td>Plena Noite</td>\n",
       "      <td>Decrescente</td>\n",
       "      <td>Céu Claro</td>\n",
       "      <td>Simples</td>\n",
       "      <td>Reta</td>\n",
       "      <td>Não</td>\n",
       "      <td>351.0</td>\n",
       "      <td>Automóvel</td>\n",
       "      <td>CHEVROLET/COBALT 1.8 LT</td>\n",
       "      <td>2013.0</td>\n",
       "      <td>Condutor</td>\n",
       "      <td>Lesões Leves</td>\n",
       "      <td>55.0</td>\n",
       "      <td>Masculino</td>\n",
       "      <td>0</td>\n",
       "      <td>1</td>\n",
       "      <td>0</td>\n",
       "      <td>0</td>\n",
       "      <td>-22,53170912</td>\n",
       "      <td>-43,21886301</td>\n",
       "      <td>SR-RJ</td>\n",
       "      <td>DEL5/6</td>\n",
       "      <td>UOP03/RJ</td>\n",
       "    </tr>\n",
       "    <tr>\n",
       "      <th>8</th>\n",
       "      <td>1117</td>\n",
       "      <td>327.0</td>\n",
       "      <td>1596.0</td>\n",
       "      <td>2017-01-01</td>\n",
       "      <td>domingo</td>\n",
       "      <td>19:30:00</td>\n",
       "      <td>RO</td>\n",
       "      <td>364.0</td>\n",
       "      <td>476</td>\n",
       "      <td>ARIQUEMES</td>\n",
       "      <td>Sim</td>\n",
       "      <td>Defeito na Via</td>\n",
       "      <td>1.0</td>\n",
       "      <td>Tombamento</td>\n",
       "      <td>Com Vítimas Feridas</td>\n",
       "      <td>Plena Noite</td>\n",
       "      <td>Crescente</td>\n",
       "      <td>Céu Claro</td>\n",
       "      <td>Simples</td>\n",
       "      <td>Reta</td>\n",
       "      <td>Não</td>\n",
       "      <td>1317.0</td>\n",
       "      <td>Caminhão-trator</td>\n",
       "      <td>SCANIA/G 420 A4X2</td>\n",
       "      <td>2009.0</td>\n",
       "      <td>Condutor</td>\n",
       "      <td>Lesões Leves</td>\n",
       "      <td>47.0</td>\n",
       "      <td>Masculino</td>\n",
       "      <td>0</td>\n",
       "      <td>1</td>\n",
       "      <td>0</td>\n",
       "      <td>0</td>\n",
       "      <td>-10,24820184</td>\n",
       "      <td>-62,72343636</td>\n",
       "      <td>SR-RO</td>\n",
       "      <td>DEL21/3</td>\n",
       "      <td>UOP01/RO</td>\n",
       "    </tr>\n",
       "    <tr>\n",
       "      <th>9</th>\n",
       "      <td>685</td>\n",
       "      <td>218.0</td>\n",
       "      <td>463.0</td>\n",
       "      <td>2017-01-01</td>\n",
       "      <td>domingo</td>\n",
       "      <td>17:00:00</td>\n",
       "      <td>RS</td>\n",
       "      <td>116.0</td>\n",
       "      <td>304</td>\n",
       "      <td>GUAIBA</td>\n",
       "      <td>Sim</td>\n",
       "      <td>Não guardar distância de segurança</td>\n",
       "      <td>1.0</td>\n",
       "      <td>Colisão traseira</td>\n",
       "      <td>Sem Vítimas</td>\n",
       "      <td>Pleno dia</td>\n",
       "      <td>Decrescente</td>\n",
       "      <td>Céu Claro</td>\n",
       "      <td>Simples</td>\n",
       "      <td>Reta</td>\n",
       "      <td>Não</td>\n",
       "      <td>311.0</td>\n",
       "      <td>Automóvel</td>\n",
       "      <td>FIAT/UNO ELECTRONIC</td>\n",
       "      <td>1993.0</td>\n",
       "      <td>Passageiro</td>\n",
       "      <td>Ileso</td>\n",
       "      <td>55.0</td>\n",
       "      <td>Feminino</td>\n",
       "      <td>1</td>\n",
       "      <td>0</td>\n",
       "      <td>0</td>\n",
       "      <td>0</td>\n",
       "      <td>-30,1515</td>\n",
       "      <td>-51,3679</td>\n",
       "      <td>SR-RS</td>\n",
       "      <td>DEL9/2</td>\n",
       "      <td>UOP01/RS</td>\n",
       "    </tr>\n",
       "  </tbody>\n",
       "</table>\n",
       "</div>"
      ],
      "text/plain": [
       "   Unnamed: 0     id   pesid data_inversa dia_semana   horario  uf     br  \\\n",
       "0         709  225.0   235.0   2017-01-01    domingo  18:30:00  SP  153.0   \n",
       "1         684  218.0   471.0   2017-01-01    domingo  17:00:00  RS  116.0   \n",
       "2         683  218.0   469.0   2017-01-01    domingo  17:00:00  RS  116.0   \n",
       "3         682  218.0   462.0   2017-01-01    domingo  17:00:00  RS  116.0   \n",
       "4         681  218.0   466.0   2017-01-01    domingo  17:00:00  RS  116.0   \n",
       "5         680  217.0     NaN   2017-01-01    domingo  18:10:00  ES  101.0   \n",
       "6        1113  324.0   403.0   2017-01-01    domingo  08:00:00  AL  101.0   \n",
       "7        1116  326.0  2070.0   2017-01-01    domingo  22:30:00  RJ   40.0   \n",
       "8        1117  327.0  1596.0   2017-01-01    domingo  19:30:00  RO  364.0   \n",
       "9         685  218.0   463.0   2017-01-01    domingo  17:00:00  RS  116.0   \n",
       "\n",
       "      km      municipio causa_principal  \\\n",
       "0    159      PROMISSAO             Sim   \n",
       "1    304         GUAIBA             Sim   \n",
       "2    304         GUAIBA             Sim   \n",
       "3    304         GUAIBA             Sim   \n",
       "4    304         GUAIBA             Sim   \n",
       "5  301,6          VIANA             Sim   \n",
       "6     18  JOAQUIM GOMES             Sim   \n",
       "7     84     PETROPOLIS             Sim   \n",
       "8    476      ARIQUEMES             Sim   \n",
       "9    304         GUAIBA             Sim   \n",
       "\n",
       "                            causa_acidente  ordem_tipo_acidente  \\\n",
       "0  Avarias e/ou desgaste excessivo no pneu                  1.0   \n",
       "1       Não guardar distância de segurança                  1.0   \n",
       "2       Não guardar distância de segurança                  1.0   \n",
       "3       Não guardar distância de segurança                  1.0   \n",
       "4       Não guardar distância de segurança                  1.0   \n",
       "5              Falta de Atenção à Condução                  1.0   \n",
       "6              Falta de Atenção à Condução                  1.0   \n",
       "7              Falta de Atenção à Condução                  1.0   \n",
       "8                           Defeito na Via                  1.0   \n",
       "9       Não guardar distância de segurança                  1.0   \n",
       "\n",
       "               tipo_acidente classificacao_acidente     fase_dia  sentido_via  \\\n",
       "0                 Tombamento    Com Vítimas Feridas    Pleno dia    Crescente   \n",
       "1           Colisão traseira            Sem Vítimas    Pleno dia  Decrescente   \n",
       "2           Colisão traseira            Sem Vítimas    Pleno dia  Decrescente   \n",
       "3           Colisão traseira            Sem Vítimas    Pleno dia  Decrescente   \n",
       "4           Colisão traseira            Sem Vítimas    Pleno dia  Decrescente   \n",
       "5           Colisão traseira    Com Vítimas Feridas    Pleno dia  Decrescente   \n",
       "6  Saída de leito carroçável    Com Vítimas Feridas    Pleno dia    Crescente   \n",
       "7  Saída de leito carroçável    Com Vítimas Feridas  Plena Noite  Decrescente   \n",
       "8                 Tombamento    Com Vítimas Feridas  Plena Noite    Crescente   \n",
       "9           Colisão traseira            Sem Vítimas    Pleno dia  Decrescente   \n",
       "\n",
       "  condicao_metereologica tipo_pista tracado_via uso_solo  id_veiculo  \\\n",
       "0                Nublado    Simples        Reta      Não       197.0   \n",
       "1              Céu Claro    Simples        Reta      Não       332.0   \n",
       "2              Céu Claro    Simples        Reta      Não       332.0   \n",
       "3              Céu Claro    Simples        Reta      Não       311.0   \n",
       "4              Céu Claro    Simples        Reta      Não       311.0   \n",
       "5              Céu Claro      Dupla        Reta      Sim       266.0   \n",
       "6              Céu Claro      Dupla       Curva      Não       347.0   \n",
       "7              Céu Claro    Simples        Reta      Não       351.0   \n",
       "8              Céu Claro    Simples        Reta      Não      1317.0   \n",
       "9              Céu Claro    Simples        Reta      Não       311.0   \n",
       "\n",
       "      tipo_veiculo                    marca  ano_fabricacao_veiculo  \\\n",
       "0      Motocicleta   HONDA/CG 125 TITAN KSE                  2003.0   \n",
       "1     Micro-ônibus         VW/KOMBI LOTAÇÃO                  2011.0   \n",
       "2     Micro-ônibus         VW/KOMBI LOTAÇÃO                  2011.0   \n",
       "3        Automóvel      FIAT/UNO ELECTRONIC                  1993.0   \n",
       "4        Automóvel      FIAT/UNO ELECTRONIC                  1993.0   \n",
       "5      Semireboque      SR/RODOVALE GOLD 3E                  2014.0   \n",
       "6        Automóvel      FORD/KA SE 1.0 HA B                  2016.0   \n",
       "7        Automóvel  CHEVROLET/COBALT 1.8 LT                  2013.0   \n",
       "8  Caminhão-trator        SCANIA/G 420 A4X2                  2009.0   \n",
       "9        Automóvel      FIAT/UNO ELECTRONIC                  1993.0   \n",
       "\n",
       "  tipo_envolvido  estado_fisico  idade           sexo  ilesos  feridos_leves  \\\n",
       "0     Passageiro   Lesões Leves   43.0       Feminino       0              1   \n",
       "1     Passageiro          Ileso   43.0      Masculino       1              0   \n",
       "2       Condutor          Ileso   72.0      Masculino       1              0   \n",
       "3       Condutor          Ileso   40.0      Masculino       1              0   \n",
       "4     Passageiro          Ileso   35.0      Masculino       1              0   \n",
       "5  Não Informado  Não Informado    NaN  Não Informado       0              0   \n",
       "6     Passageiro  Lesões Graves   28.0       Feminino       0              0   \n",
       "7       Condutor   Lesões Leves   55.0      Masculino       0              1   \n",
       "8       Condutor   Lesões Leves   47.0      Masculino       0              1   \n",
       "9     Passageiro          Ileso   55.0       Feminino       1              0   \n",
       "\n",
       "   feridos_graves  mortos      latitude     longitude regional delegacia  \\\n",
       "0               0       0      -21,4949      -49,7798    SR-SP   DEL6/07   \n",
       "1               0       0      -30,1515      -51,3679    SR-RS    DEL9/2   \n",
       "2               0       0      -30,1515      -51,3679    SR-RS    DEL9/2   \n",
       "3               0       0      -30,1515      -51,3679    SR-RS    DEL9/2   \n",
       "4               0       0      -30,1515      -51,3679    SR-RS    DEL9/2   \n",
       "5               0       0  -20,37093446  -40,44363284    SR-ES   DEL12/1   \n",
       "6               1       0   -9,00262894  -35,67524672    SR-AL   DEL13/1   \n",
       "7               0       0  -22,53170912  -43,21886301    SR-RJ    DEL5/6   \n",
       "8               0       0  -10,24820184  -62,72343636    SR-RO   DEL21/3   \n",
       "9               0       0      -30,1515      -51,3679    SR-RS    DEL9/2   \n",
       "\n",
       "        uop  \n",
       "0  UOP01/SP  \n",
       "1  UOP01/RS  \n",
       "2  UOP01/RS  \n",
       "3  UOP01/RS  \n",
       "4  UOP01/RS  \n",
       "5  UOP01/ES  \n",
       "6  UOP01/AL  \n",
       "7  UOP03/RJ  \n",
       "8  UOP01/RO  \n",
       "9  UOP01/RS  "
      ]
     },
     "execution_count": 6,
     "metadata": {},
     "output_type": "execute_result"
    }
   ],
   "source": [
    "df = pd.read_csv('./datasets/df_acidentes.csv')\n",
    "pd.set_option('display.max_columns', None)\n",
    "df.head(10)"
   ]
  },
  {
   "cell_type": "markdown",
   "metadata": {},
   "source": [
    "Analisando o dataframe as seguintes colunas não possuem dados relevantes ao problema e serão removidas:\n",
    "* Unnamed: 0\n",
    "* id\n",
    "* pesid\n",
    "* km\n",
    "* ordem_tipo_acidente\t\n",
    "* classificacao_acidente\t\n",
    "* sentido_via\n",
    "* condicao_metereologica\n",
    "* uso_solo\n",
    "* id_veiculo\n",
    "* marca\n",
    "* ano_fabricacao_veiculo\n",
    "* ipo_envolvido\n",
    "* estado_fisico\n",
    "* sexo\n",
    "* latitude e longitude\n",
    "* regional\n",
    "* delegacia\n",
    "* uop"
   ]
  },
  {
   "cell_type": "code",
   "execution_count": 7,
   "metadata": {},
   "outputs": [],
   "source": [
    "# Dropando as colunas:\n",
    "def remove_columns(columns):\n",
    "    for i in columns:\n",
    "        df.drop(i,axis=1,inplace=True)"
   ]
  },
  {
   "cell_type": "code",
   "execution_count": 8,
   "metadata": {},
   "outputs": [],
   "source": [
    "columns = ['Unnamed: 0','id','pesid','km','municipio','causa_principal','ordem_tipo_acidente',\\\n",
    "            'tipo_pista','tracado_via','classificacao_acidente','sentido_via','condicao_metereologica',\\\n",
    "            'uso_solo','id_veiculo','marca','ano_fabricacao_veiculo','tipo_envolvido',\\\n",
    "            'estado_fisico','sexo','latitude','longitude','regional','delegacia','uop']"
   ]
  },
  {
   "cell_type": "code",
   "execution_count": 9,
   "metadata": {},
   "outputs": [],
   "source": [
    "remove_columns(columns)"
   ]
  },
  {
   "cell_type": "code",
   "execution_count": 10,
   "metadata": {},
   "outputs": [
    {
     "data": {
      "text/html": [
       "<div>\n",
       "<style scoped>\n",
       "    .dataframe tbody tr th:only-of-type {\n",
       "        vertical-align: middle;\n",
       "    }\n",
       "\n",
       "    .dataframe tbody tr th {\n",
       "        vertical-align: top;\n",
       "    }\n",
       "\n",
       "    .dataframe thead th {\n",
       "        text-align: right;\n",
       "    }\n",
       "</style>\n",
       "<table border=\"1\" class=\"dataframe\">\n",
       "  <thead>\n",
       "    <tr style=\"text-align: right;\">\n",
       "      <th></th>\n",
       "      <th>data_inversa</th>\n",
       "      <th>dia_semana</th>\n",
       "      <th>horario</th>\n",
       "      <th>uf</th>\n",
       "      <th>br</th>\n",
       "      <th>causa_acidente</th>\n",
       "      <th>tipo_acidente</th>\n",
       "      <th>fase_dia</th>\n",
       "      <th>tipo_veiculo</th>\n",
       "      <th>idade</th>\n",
       "      <th>ilesos</th>\n",
       "      <th>feridos_leves</th>\n",
       "      <th>feridos_graves</th>\n",
       "      <th>mortos</th>\n",
       "    </tr>\n",
       "  </thead>\n",
       "  <tbody>\n",
       "    <tr>\n",
       "      <th>0</th>\n",
       "      <td>2017-01-01</td>\n",
       "      <td>domingo</td>\n",
       "      <td>18:30:00</td>\n",
       "      <td>SP</td>\n",
       "      <td>153.0</td>\n",
       "      <td>Avarias e/ou desgaste excessivo no pneu</td>\n",
       "      <td>Tombamento</td>\n",
       "      <td>Pleno dia</td>\n",
       "      <td>Motocicleta</td>\n",
       "      <td>43.0</td>\n",
       "      <td>0</td>\n",
       "      <td>1</td>\n",
       "      <td>0</td>\n",
       "      <td>0</td>\n",
       "    </tr>\n",
       "    <tr>\n",
       "      <th>1</th>\n",
       "      <td>2017-01-01</td>\n",
       "      <td>domingo</td>\n",
       "      <td>17:00:00</td>\n",
       "      <td>RS</td>\n",
       "      <td>116.0</td>\n",
       "      <td>Não guardar distância de segurança</td>\n",
       "      <td>Colisão traseira</td>\n",
       "      <td>Pleno dia</td>\n",
       "      <td>Micro-ônibus</td>\n",
       "      <td>43.0</td>\n",
       "      <td>1</td>\n",
       "      <td>0</td>\n",
       "      <td>0</td>\n",
       "      <td>0</td>\n",
       "    </tr>\n",
       "    <tr>\n",
       "      <th>2</th>\n",
       "      <td>2017-01-01</td>\n",
       "      <td>domingo</td>\n",
       "      <td>17:00:00</td>\n",
       "      <td>RS</td>\n",
       "      <td>116.0</td>\n",
       "      <td>Não guardar distância de segurança</td>\n",
       "      <td>Colisão traseira</td>\n",
       "      <td>Pleno dia</td>\n",
       "      <td>Micro-ônibus</td>\n",
       "      <td>72.0</td>\n",
       "      <td>1</td>\n",
       "      <td>0</td>\n",
       "      <td>0</td>\n",
       "      <td>0</td>\n",
       "    </tr>\n",
       "    <tr>\n",
       "      <th>3</th>\n",
       "      <td>2017-01-01</td>\n",
       "      <td>domingo</td>\n",
       "      <td>17:00:00</td>\n",
       "      <td>RS</td>\n",
       "      <td>116.0</td>\n",
       "      <td>Não guardar distância de segurança</td>\n",
       "      <td>Colisão traseira</td>\n",
       "      <td>Pleno dia</td>\n",
       "      <td>Automóvel</td>\n",
       "      <td>40.0</td>\n",
       "      <td>1</td>\n",
       "      <td>0</td>\n",
       "      <td>0</td>\n",
       "      <td>0</td>\n",
       "    </tr>\n",
       "    <tr>\n",
       "      <th>4</th>\n",
       "      <td>2017-01-01</td>\n",
       "      <td>domingo</td>\n",
       "      <td>17:00:00</td>\n",
       "      <td>RS</td>\n",
       "      <td>116.0</td>\n",
       "      <td>Não guardar distância de segurança</td>\n",
       "      <td>Colisão traseira</td>\n",
       "      <td>Pleno dia</td>\n",
       "      <td>Automóvel</td>\n",
       "      <td>35.0</td>\n",
       "      <td>1</td>\n",
       "      <td>0</td>\n",
       "      <td>0</td>\n",
       "      <td>0</td>\n",
       "    </tr>\n",
       "  </tbody>\n",
       "</table>\n",
       "</div>"
      ],
      "text/plain": [
       "  data_inversa dia_semana   horario  uf     br  \\\n",
       "0   2017-01-01    domingo  18:30:00  SP  153.0   \n",
       "1   2017-01-01    domingo  17:00:00  RS  116.0   \n",
       "2   2017-01-01    domingo  17:00:00  RS  116.0   \n",
       "3   2017-01-01    domingo  17:00:00  RS  116.0   \n",
       "4   2017-01-01    domingo  17:00:00  RS  116.0   \n",
       "\n",
       "                            causa_acidente     tipo_acidente   fase_dia  \\\n",
       "0  Avarias e/ou desgaste excessivo no pneu        Tombamento  Pleno dia   \n",
       "1       Não guardar distância de segurança  Colisão traseira  Pleno dia   \n",
       "2       Não guardar distância de segurança  Colisão traseira  Pleno dia   \n",
       "3       Não guardar distância de segurança  Colisão traseira  Pleno dia   \n",
       "4       Não guardar distância de segurança  Colisão traseira  Pleno dia   \n",
       "\n",
       "   tipo_veiculo  idade  ilesos  feridos_leves  feridos_graves  mortos  \n",
       "0   Motocicleta   43.0       0              1               0       0  \n",
       "1  Micro-ônibus   43.0       1              0               0       0  \n",
       "2  Micro-ônibus   72.0       1              0               0       0  \n",
       "3     Automóvel   40.0       1              0               0       0  \n",
       "4     Automóvel   35.0       1              0               0       0  "
      ]
     },
     "execution_count": 10,
     "metadata": {},
     "output_type": "execute_result"
    }
   ],
   "source": [
    "df.head()"
   ]
  },
  {
   "cell_type": "markdown",
   "metadata": {},
   "source": [
    "Vamos verificar a consistencia dos dados"
   ]
  },
  {
   "cell_type": "code",
   "execution_count": 11,
   "metadata": {},
   "outputs": [
    {
     "data": {
      "text/plain": [
       "array(['domingo', 'segunda-feira', 'terça-feira', 'quarta-feira',\n",
       "       'quinta-feira', 'sexta-feira', 'sábado', 'quarta', 'quinta',\n",
       "       'sexta', 'segunda', 'terça'], dtype=object)"
      ]
     },
     "execution_count": 11,
     "metadata": {},
     "output_type": "execute_result"
    }
   ],
   "source": [
    "df['dia_semana'].unique()"
   ]
  },
  {
   "cell_type": "markdown",
   "metadata": {},
   "source": [
    "Temos que padronizar o nome dos dias da semana"
   ]
  },
  {
   "cell_type": "code",
   "execution_count": 12,
   "metadata": {},
   "outputs": [],
   "source": [
    "week_day = ['segunda-feira', 'terça-feira', 'quarta-feira','quinta-feira', 'sexta-feira']\n",
    "others_day = ['segunda', 'terça', 'quarta','quinta', 'sexta']"
   ]
  },
  {
   "cell_type": "code",
   "execution_count": 13,
   "metadata": {},
   "outputs": [],
   "source": [
    "for i in range(len(week_day)):\n",
    "    df['dia_semana'].replace(others_day[i],week_day[i], inplace=True)"
   ]
  },
  {
   "cell_type": "code",
   "execution_count": 14,
   "metadata": {},
   "outputs": [
    {
     "data": {
      "text/plain": [
       "array(['domingo', 'segunda-feira', 'terça-feira', 'quarta-feira',\n",
       "       'quinta-feira', 'sexta-feira', 'sábado'], dtype=object)"
      ]
     },
     "execution_count": 14,
     "metadata": {},
     "output_type": "execute_result"
    }
   ],
   "source": [
    "df['dia_semana'].unique()"
   ]
  },
  {
   "cell_type": "code",
   "execution_count": 15,
   "metadata": {},
   "outputs": [
    {
     "data": {
      "text/plain": [
       "array(['Motocicleta', 'Micro-ônibus', 'Automóvel', 'Semireboque',\n",
       "       'Caminhão-trator', 'Caminhonete', 'Caminhão', 'Camioneta',\n",
       "       'Reboque', 'Ônibus', 'Utilitário', 'Motoneta', 'Outros',\n",
       "       'Bicicleta', 'Carroça-charrete', 'Trem-bonde', 'Trator de rodas',\n",
       "       'Ciclomotor', 'Não Informado', 'Trator misto', 'Carro de mão',\n",
       "       'Triciclo', 'Trator de esteira', 'Chassi-plataforma',\n",
       "       'Quadriciclo'], dtype=object)"
      ]
     },
     "execution_count": 15,
     "metadata": {},
     "output_type": "execute_result"
    }
   ],
   "source": [
    "df['tipo_veiculo'].unique()"
   ]
  },
  {
   "cell_type": "markdown",
   "metadata": {},
   "source": [
    "Vamos substituir nome de veiculos semelhantes"
   ]
  },
  {
   "cell_type": "code",
   "execution_count": 16,
   "metadata": {},
   "outputs": [],
   "source": [
    "vehicle = ['Motocicleta','Caminhonete','Outros']\n",
    "others_vehicle = ['Motoneta','Camioneta','Não Informado']\n",
    "for i in range(len(vehicle)):\n",
    "    df['tipo_veiculo'].replace(others_vehicle[i],vehicle[i], inplace=True)"
   ]
  },
  {
   "cell_type": "code",
   "execution_count": 17,
   "metadata": {},
   "outputs": [
    {
     "data": {
      "text/plain": [
       "array(['Avarias e/ou desgaste excessivo no pneu',\n",
       "       'Não guardar distância de segurança',\n",
       "       'Falta de Atenção à Condução', 'Defeito na Via',\n",
       "       'Condutor Dormindo', 'Ingestão de Álcool',\n",
       "       'Desobediência às normas de trânsito pelo condutor', 'Mal Súbito',\n",
       "       'Pista Escorregadia', 'Falta de Atenção do Pedestre',\n",
       "       'Animais na Pista', 'Velocidade Incompatível',\n",
       "       'Ultrapassagem Indevida', 'Fenômenos da Natureza',\n",
       "       'Restrição de Visibilidade', 'Defeito Mecânico no Veículo',\n",
       "       'Sinalização da via insuficiente ou inadequada',\n",
       "       'Carga excessiva e/ou mal acondicionada',\n",
       "       'Objeto estático sobre o leito carroçável',\n",
       "       'Deficiência ou não Acionamento do Sistema de Iluminação/Sinalização do Veículo',\n",
       "       'Ingestão de Substâncias Psicoativas', 'Agressão Externa',\n",
       "       'Desobediência às normas de trânsito pelo pedestre',\n",
       "       'Ingestão de álcool e/ou substâncias psicoativas pelo pedestre',\n",
       "       'Reação tardia ou ineficiente do condutor',\n",
       "       'Demais falhas mecânicas ou elétricas', 'Iluminação deficiente',\n",
       "       'Ausência de reação do condutor',\n",
       "       'Condutor deixou de manter distância do veículo da frente',\n",
       "       'Acessar a via sem observar a presença dos outros veículos',\n",
       "       'Conversão proibida', 'Fumaça',\n",
       "       'Desrespeitar a preferência no cruzamento',\n",
       "       'Manobra de mudança de faixa',\n",
       "       'Trafegar com motocicleta (ou similar) entre as faixas', 'Chuva',\n",
       "       'Acesso irregular', 'Falta de acostamento',\n",
       "       'Acumulo de areia ou detritos sobre o pavimento',\n",
       "       'Ingestão de álcool pelo condutor', 'Problema com o freio',\n",
       "       'Condutor usando celular',\n",
       "       'Condutor desrespeitou a iluminação vermelha do semáforo',\n",
       "       'Acumulo de água sobre o pavimento', 'Transitar na contramão',\n",
       "       'Frear bruscamente', 'Afundamento ou ondulação no pavimento',\n",
       "       'Transitar no acostamento',\n",
       "       'Estacionar ou parar em local proibido',\n",
       "       'Entrada inopinada do pedestre', 'Pedestre andava na pista',\n",
       "       'Ausência de sinalização', 'Pista em desnível',\n",
       "       'Restrição de visibilidade em curvas verticais',\n",
       "       'Pista esburacada', 'Curva acentuada',\n",
       "       'Ingestão de álcool ou de substâncias psicoativas pelo pedestre',\n",
       "       'Demais falhas na via', 'Acostamento em desnível',\n",
       "       'Pedestre cruzava a pista fora da faixa',\n",
       "       'Deficiência do Sistema de Iluminação/Sinalização',\n",
       "       'Falta de elemento de contenção que evite a saída do leito carroçável',\n",
       "       'Mal súbito do condutor',\n",
       "       'Ingestão de substâncias psicoativas pelo condutor',\n",
       "       'Acumulo de óleo sobre o pavimento', 'Retorno proibido',\n",
       "       'Demais Fenômenos da natureza', 'Desvio temporário', 'Neblina',\n",
       "       'Sinalização mal posicionada', 'Obras na pista',\n",
       "       'Redutor de velocidade em desacordo', 'Declive acentuado',\n",
       "       'Problema na suspensão', 'Sistema de drenagem ineficiente',\n",
       "       'Obstrução na via',\n",
       "       'Área urbana sem a presença de local apropriado para a travessia de pedestres',\n",
       "       'Deixar de acionar o farol da motocicleta (ou similar)',\n",
       "       'Restrição de visibilidade em curvas horizontais',\n",
       "       'Sinalização encoberta', 'Participar de racha',\n",
       "       'Transitar na calçada',\n",
       "       'Faixas de trânsito com largura insuficiente',\n",
       "       'Faróis desregulados', 'Semáforo com defeito',\n",
       "       'Modificação proibida',\n",
       "       'Condutor não acionou o farol baixo durante o dia em rodovias de pista simples'],\n",
       "      dtype=object)"
      ]
     },
     "execution_count": 17,
     "metadata": {},
     "output_type": "execute_result"
    }
   ],
   "source": [
    "df['causa_acidente'].unique()"
   ]
  },
  {
   "cell_type": "code",
   "execution_count": 18,
   "metadata": {},
   "outputs": [
    {
     "data": {
      "text/plain": [
       "array(['Tombamento', 'Colisão traseira', 'Saída de leito carroçável',\n",
       "       'Capotamento', 'Queda de ocupante de veículo', 'Colisão lateral',\n",
       "       'Engavetamento', 'Atropelamento de Pedestre',\n",
       "       'Atropelamento de Animal', 'Colisão com objeto estático',\n",
       "       'Colisão transversal', 'Incêndio',\n",
       "       'Colisão com objeto em movimento', 'Derramamento de carga',\n",
       "       'Colisão frontal', 'Danos eventuais', nan,\n",
       "       'Colisão lateral sentido oposto', 'Colisão lateral mesmo sentido',\n",
       "       'Colisão com objeto', 'Eventos atípicos'], dtype=object)"
      ]
     },
     "execution_count": 18,
     "metadata": {},
     "output_type": "execute_result"
    }
   ],
   "source": [
    "df['tipo_acidente'].unique()"
   ]
  },
  {
   "cell_type": "markdown",
   "metadata": {},
   "source": [
    "Existem valores nan na coluna tipo_acidentes. vamos analisar essas linhas para tomar decisões"
   ]
  },
  {
   "cell_type": "code",
   "execution_count": 19,
   "metadata": {},
   "outputs": [
    {
     "data": {
      "text/html": [
       "<div>\n",
       "<style scoped>\n",
       "    .dataframe tbody tr th:only-of-type {\n",
       "        vertical-align: middle;\n",
       "    }\n",
       "\n",
       "    .dataframe tbody tr th {\n",
       "        vertical-align: top;\n",
       "    }\n",
       "\n",
       "    .dataframe thead th {\n",
       "        text-align: right;\n",
       "    }\n",
       "</style>\n",
       "<table border=\"1\" class=\"dataframe\">\n",
       "  <thead>\n",
       "    <tr style=\"text-align: right;\">\n",
       "      <th></th>\n",
       "      <th>data_inversa</th>\n",
       "      <th>dia_semana</th>\n",
       "      <th>horario</th>\n",
       "      <th>uf</th>\n",
       "      <th>br</th>\n",
       "      <th>causa_acidente</th>\n",
       "      <th>tipo_acidente</th>\n",
       "      <th>fase_dia</th>\n",
       "      <th>tipo_veiculo</th>\n",
       "      <th>idade</th>\n",
       "      <th>ilesos</th>\n",
       "      <th>feridos_leves</th>\n",
       "      <th>feridos_graves</th>\n",
       "      <th>mortos</th>\n",
       "    </tr>\n",
       "  </thead>\n",
       "  <tbody>\n",
       "    <tr>\n",
       "      <th>521249</th>\n",
       "      <td>2018-07-13</td>\n",
       "      <td>sexta-feira</td>\n",
       "      <td>21:10:00</td>\n",
       "      <td>SC</td>\n",
       "      <td>280.0</td>\n",
       "      <td>Ultrapassagem Indevida</td>\n",
       "      <td>NaN</td>\n",
       "      <td>Plena Noite</td>\n",
       "      <td>Automóvel</td>\n",
       "      <td>32.0</td>\n",
       "      <td>0</td>\n",
       "      <td>1</td>\n",
       "      <td>0</td>\n",
       "      <td>0</td>\n",
       "    </tr>\n",
       "    <tr>\n",
       "      <th>521250</th>\n",
       "      <td>2018-07-13</td>\n",
       "      <td>sexta-feira</td>\n",
       "      <td>21:10:00</td>\n",
       "      <td>SC</td>\n",
       "      <td>280.0</td>\n",
       "      <td>Ultrapassagem Indevida</td>\n",
       "      <td>NaN</td>\n",
       "      <td>Plena Noite</td>\n",
       "      <td>Motocicleta</td>\n",
       "      <td>29.0</td>\n",
       "      <td>0</td>\n",
       "      <td>0</td>\n",
       "      <td>1</td>\n",
       "      <td>0</td>\n",
       "    </tr>\n",
       "    <tr>\n",
       "      <th>521251</th>\n",
       "      <td>2018-07-13</td>\n",
       "      <td>sexta-feira</td>\n",
       "      <td>21:10:00</td>\n",
       "      <td>SC</td>\n",
       "      <td>280.0</td>\n",
       "      <td>Ultrapassagem Indevida</td>\n",
       "      <td>NaN</td>\n",
       "      <td>Plena Noite</td>\n",
       "      <td>Motocicleta</td>\n",
       "      <td>28.0</td>\n",
       "      <td>0</td>\n",
       "      <td>0</td>\n",
       "      <td>0</td>\n",
       "      <td>1</td>\n",
       "    </tr>\n",
       "    <tr>\n",
       "      <th>543714</th>\n",
       "      <td>2018-08-05</td>\n",
       "      <td>domingo</td>\n",
       "      <td>05:00:00</td>\n",
       "      <td>AC</td>\n",
       "      <td>364.0</td>\n",
       "      <td>Falta de Atenção à Condução</td>\n",
       "      <td>NaN</td>\n",
       "      <td>Amanhecer</td>\n",
       "      <td>Motocicleta</td>\n",
       "      <td>NaN</td>\n",
       "      <td>0</td>\n",
       "      <td>0</td>\n",
       "      <td>1</td>\n",
       "      <td>0</td>\n",
       "    </tr>\n",
       "    <tr>\n",
       "      <th>543716</th>\n",
       "      <td>2018-08-05</td>\n",
       "      <td>domingo</td>\n",
       "      <td>05:00:00</td>\n",
       "      <td>AC</td>\n",
       "      <td>364.0</td>\n",
       "      <td>Falta de Atenção à Condução</td>\n",
       "      <td>NaN</td>\n",
       "      <td>Amanhecer</td>\n",
       "      <td>Motocicleta</td>\n",
       "      <td>NaN</td>\n",
       "      <td>0</td>\n",
       "      <td>1</td>\n",
       "      <td>0</td>\n",
       "      <td>0</td>\n",
       "    </tr>\n",
       "    <tr>\n",
       "      <th>...</th>\n",
       "      <td>...</td>\n",
       "      <td>...</td>\n",
       "      <td>...</td>\n",
       "      <td>...</td>\n",
       "      <td>...</td>\n",
       "      <td>...</td>\n",
       "      <td>...</td>\n",
       "      <td>...</td>\n",
       "      <td>...</td>\n",
       "      <td>...</td>\n",
       "      <td>...</td>\n",
       "      <td>...</td>\n",
       "      <td>...</td>\n",
       "      <td>...</td>\n",
       "    </tr>\n",
       "    <tr>\n",
       "      <th>712936</th>\n",
       "      <td>2019-02-15</td>\n",
       "      <td>sexta-feira</td>\n",
       "      <td>06:30:00</td>\n",
       "      <td>GO</td>\n",
       "      <td>153.0</td>\n",
       "      <td>Objeto estático sobre o leito carroçável</td>\n",
       "      <td>NaN</td>\n",
       "      <td>Amanhecer</td>\n",
       "      <td>Caminhonete</td>\n",
       "      <td>44.0</td>\n",
       "      <td>0</td>\n",
       "      <td>1</td>\n",
       "      <td>0</td>\n",
       "      <td>0</td>\n",
       "    </tr>\n",
       "    <tr>\n",
       "      <th>712938</th>\n",
       "      <td>2019-02-15</td>\n",
       "      <td>sexta-feira</td>\n",
       "      <td>06:30:00</td>\n",
       "      <td>GO</td>\n",
       "      <td>153.0</td>\n",
       "      <td>Objeto estático sobre o leito carroçável</td>\n",
       "      <td>NaN</td>\n",
       "      <td>Amanhecer</td>\n",
       "      <td>Automóvel</td>\n",
       "      <td>64.0</td>\n",
       "      <td>1</td>\n",
       "      <td>0</td>\n",
       "      <td>0</td>\n",
       "      <td>0</td>\n",
       "    </tr>\n",
       "    <tr>\n",
       "      <th>713055</th>\n",
       "      <td>2019-02-15</td>\n",
       "      <td>sexta-feira</td>\n",
       "      <td>06:30:00</td>\n",
       "      <td>GO</td>\n",
       "      <td>153.0</td>\n",
       "      <td>Falta de Atenção à Condução</td>\n",
       "      <td>NaN</td>\n",
       "      <td>Amanhecer</td>\n",
       "      <td>Caminhonete</td>\n",
       "      <td>44.0</td>\n",
       "      <td>0</td>\n",
       "      <td>1</td>\n",
       "      <td>0</td>\n",
       "      <td>0</td>\n",
       "    </tr>\n",
       "    <tr>\n",
       "      <th>713220</th>\n",
       "      <td>2019-02-15</td>\n",
       "      <td>sexta-feira</td>\n",
       "      <td>06:30:00</td>\n",
       "      <td>GO</td>\n",
       "      <td>153.0</td>\n",
       "      <td>Falta de Atenção à Condução</td>\n",
       "      <td>NaN</td>\n",
       "      <td>Amanhecer</td>\n",
       "      <td>Automóvel</td>\n",
       "      <td>64.0</td>\n",
       "      <td>1</td>\n",
       "      <td>0</td>\n",
       "      <td>0</td>\n",
       "      <td>0</td>\n",
       "    </tr>\n",
       "    <tr>\n",
       "      <th>1154399</th>\n",
       "      <td>2020-06-06</td>\n",
       "      <td>sábado</td>\n",
       "      <td>02:50:00</td>\n",
       "      <td>SC</td>\n",
       "      <td>470.0</td>\n",
       "      <td>Pista Escorregadia</td>\n",
       "      <td>NaN</td>\n",
       "      <td>Plena Noite</td>\n",
       "      <td>Outros</td>\n",
       "      <td>NaN</td>\n",
       "      <td>0</td>\n",
       "      <td>0</td>\n",
       "      <td>0</td>\n",
       "      <td>0</td>\n",
       "    </tr>\n",
       "  </tbody>\n",
       "</table>\n",
       "<p>96 rows × 14 columns</p>\n",
       "</div>"
      ],
      "text/plain": [
       "        data_inversa   dia_semana   horario  uf     br  \\\n",
       "521249    2018-07-13  sexta-feira  21:10:00  SC  280.0   \n",
       "521250    2018-07-13  sexta-feira  21:10:00  SC  280.0   \n",
       "521251    2018-07-13  sexta-feira  21:10:00  SC  280.0   \n",
       "543714    2018-08-05      domingo  05:00:00  AC  364.0   \n",
       "543716    2018-08-05      domingo  05:00:00  AC  364.0   \n",
       "...              ...          ...       ...  ..    ...   \n",
       "712936    2019-02-15  sexta-feira  06:30:00  GO  153.0   \n",
       "712938    2019-02-15  sexta-feira  06:30:00  GO  153.0   \n",
       "713055    2019-02-15  sexta-feira  06:30:00  GO  153.0   \n",
       "713220    2019-02-15  sexta-feira  06:30:00  GO  153.0   \n",
       "1154399   2020-06-06       sábado  02:50:00  SC  470.0   \n",
       "\n",
       "                                   causa_acidente tipo_acidente     fase_dia  \\\n",
       "521249                     Ultrapassagem Indevida           NaN  Plena Noite   \n",
       "521250                     Ultrapassagem Indevida           NaN  Plena Noite   \n",
       "521251                     Ultrapassagem Indevida           NaN  Plena Noite   \n",
       "543714                Falta de Atenção à Condução           NaN    Amanhecer   \n",
       "543716                Falta de Atenção à Condução           NaN    Amanhecer   \n",
       "...                                           ...           ...          ...   \n",
       "712936   Objeto estático sobre o leito carroçável           NaN    Amanhecer   \n",
       "712938   Objeto estático sobre o leito carroçável           NaN    Amanhecer   \n",
       "713055                Falta de Atenção à Condução           NaN    Amanhecer   \n",
       "713220                Falta de Atenção à Condução           NaN    Amanhecer   \n",
       "1154399                        Pista Escorregadia           NaN  Plena Noite   \n",
       "\n",
       "        tipo_veiculo  idade  ilesos  feridos_leves  feridos_graves  mortos  \n",
       "521249     Automóvel   32.0       0              1               0       0  \n",
       "521250   Motocicleta   29.0       0              0               1       0  \n",
       "521251   Motocicleta   28.0       0              0               0       1  \n",
       "543714   Motocicleta    NaN       0              0               1       0  \n",
       "543716   Motocicleta    NaN       0              1               0       0  \n",
       "...              ...    ...     ...            ...             ...     ...  \n",
       "712936   Caminhonete   44.0       0              1               0       0  \n",
       "712938     Automóvel   64.0       1              0               0       0  \n",
       "713055   Caminhonete   44.0       0              1               0       0  \n",
       "713220     Automóvel   64.0       1              0               0       0  \n",
       "1154399       Outros    NaN       0              0               0       0  \n",
       "\n",
       "[96 rows x 14 columns]"
      ]
     },
     "execution_count": 19,
     "metadata": {},
     "output_type": "execute_result"
    }
   ],
   "source": [
    "df[df['tipo_acidente'].isna() ]"
   ]
  },
  {
   "cell_type": "markdown",
   "metadata": {},
   "source": [
    "No dataframe podemos notar que não temos informações suficiente para tratar os dados NaN e saber o tipo do acidente. Desse modo vamos eliminar essas linhas."
   ]
  },
  {
   "cell_type": "code",
   "execution_count": 20,
   "metadata": {},
   "outputs": [],
   "source": [
    "df = df[df['tipo_acidente'].notna()]"
   ]
  },
  {
   "cell_type": "code",
   "execution_count": 21,
   "metadata": {},
   "outputs": [
    {
     "name": "stdout",
     "output_type": "stream",
     "text": [
      "<class 'pandas.core.frame.DataFrame'>\n",
      "Int64Index: 1766979 entries, 0 to 1767074\n",
      "Data columns (total 14 columns):\n",
      " #   Column          Dtype  \n",
      "---  ------          -----  \n",
      " 0   data_inversa    object \n",
      " 1   dia_semana      object \n",
      " 2   horario         object \n",
      " 3   uf              object \n",
      " 4   br              float64\n",
      " 5   causa_acidente  object \n",
      " 6   tipo_acidente   object \n",
      " 7   fase_dia        object \n",
      " 8   tipo_veiculo    object \n",
      " 9   idade           float64\n",
      " 10  ilesos          int64  \n",
      " 11  feridos_leves   int64  \n",
      " 12  feridos_graves  int64  \n",
      " 13  mortos          int64  \n",
      "dtypes: float64(2), int64(4), object(8)\n",
      "memory usage: 202.2+ MB\n"
     ]
    }
   ],
   "source": [
    "df.info()"
   ]
  },
  {
   "cell_type": "code",
   "execution_count": 22,
   "metadata": {},
   "outputs": [],
   "source": [
    "df.to_csv('./df_acidentes.csv')"
   ]
  },
  {
   "cell_type": "code",
   "execution_count": 2,
   "metadata": {},
   "outputs": [],
   "source": [
    "df = pd.read_csv('df_acidentes.csv')"
   ]
  },
  {
   "cell_type": "code",
   "execution_count": 3,
   "metadata": {},
   "outputs": [
    {
     "data": {
      "text/html": [
       "<div>\n",
       "<style scoped>\n",
       "    .dataframe tbody tr th:only-of-type {\n",
       "        vertical-align: middle;\n",
       "    }\n",
       "\n",
       "    .dataframe tbody tr th {\n",
       "        vertical-align: top;\n",
       "    }\n",
       "\n",
       "    .dataframe thead th {\n",
       "        text-align: right;\n",
       "    }\n",
       "</style>\n",
       "<table border=\"1\" class=\"dataframe\">\n",
       "  <thead>\n",
       "    <tr style=\"text-align: right;\">\n",
       "      <th></th>\n",
       "      <th>Unnamed: 0</th>\n",
       "      <th>data_inversa</th>\n",
       "      <th>dia_semana</th>\n",
       "      <th>horario</th>\n",
       "      <th>uf</th>\n",
       "      <th>br</th>\n",
       "      <th>causa_acidente</th>\n",
       "      <th>tipo_acidente</th>\n",
       "      <th>fase_dia</th>\n",
       "      <th>tipo_veiculo</th>\n",
       "      <th>idade</th>\n",
       "      <th>ilesos</th>\n",
       "      <th>feridos_leves</th>\n",
       "      <th>feridos_graves</th>\n",
       "      <th>mortos</th>\n",
       "    </tr>\n",
       "  </thead>\n",
       "  <tbody>\n",
       "    <tr>\n",
       "      <th>0</th>\n",
       "      <td>0</td>\n",
       "      <td>2017-01-01</td>\n",
       "      <td>domingo</td>\n",
       "      <td>18:30:00</td>\n",
       "      <td>SP</td>\n",
       "      <td>153.0</td>\n",
       "      <td>Avarias e/ou desgaste excessivo no pneu</td>\n",
       "      <td>Tombamento</td>\n",
       "      <td>Pleno dia</td>\n",
       "      <td>Motocicleta</td>\n",
       "      <td>43.0</td>\n",
       "      <td>0</td>\n",
       "      <td>1</td>\n",
       "      <td>0</td>\n",
       "      <td>0</td>\n",
       "    </tr>\n",
       "    <tr>\n",
       "      <th>1</th>\n",
       "      <td>1</td>\n",
       "      <td>2017-01-01</td>\n",
       "      <td>domingo</td>\n",
       "      <td>17:00:00</td>\n",
       "      <td>RS</td>\n",
       "      <td>116.0</td>\n",
       "      <td>Não guardar distância de segurança</td>\n",
       "      <td>Colisão traseira</td>\n",
       "      <td>Pleno dia</td>\n",
       "      <td>Micro-ônibus</td>\n",
       "      <td>43.0</td>\n",
       "      <td>1</td>\n",
       "      <td>0</td>\n",
       "      <td>0</td>\n",
       "      <td>0</td>\n",
       "    </tr>\n",
       "    <tr>\n",
       "      <th>2</th>\n",
       "      <td>2</td>\n",
       "      <td>2017-01-01</td>\n",
       "      <td>domingo</td>\n",
       "      <td>17:00:00</td>\n",
       "      <td>RS</td>\n",
       "      <td>116.0</td>\n",
       "      <td>Não guardar distância de segurança</td>\n",
       "      <td>Colisão traseira</td>\n",
       "      <td>Pleno dia</td>\n",
       "      <td>Micro-ônibus</td>\n",
       "      <td>72.0</td>\n",
       "      <td>1</td>\n",
       "      <td>0</td>\n",
       "      <td>0</td>\n",
       "      <td>0</td>\n",
       "    </tr>\n",
       "    <tr>\n",
       "      <th>3</th>\n",
       "      <td>3</td>\n",
       "      <td>2017-01-01</td>\n",
       "      <td>domingo</td>\n",
       "      <td>17:00:00</td>\n",
       "      <td>RS</td>\n",
       "      <td>116.0</td>\n",
       "      <td>Não guardar distância de segurança</td>\n",
       "      <td>Colisão traseira</td>\n",
       "      <td>Pleno dia</td>\n",
       "      <td>Automóvel</td>\n",
       "      <td>40.0</td>\n",
       "      <td>1</td>\n",
       "      <td>0</td>\n",
       "      <td>0</td>\n",
       "      <td>0</td>\n",
       "    </tr>\n",
       "    <tr>\n",
       "      <th>4</th>\n",
       "      <td>4</td>\n",
       "      <td>2017-01-01</td>\n",
       "      <td>domingo</td>\n",
       "      <td>17:00:00</td>\n",
       "      <td>RS</td>\n",
       "      <td>116.0</td>\n",
       "      <td>Não guardar distância de segurança</td>\n",
       "      <td>Colisão traseira</td>\n",
       "      <td>Pleno dia</td>\n",
       "      <td>Automóvel</td>\n",
       "      <td>35.0</td>\n",
       "      <td>1</td>\n",
       "      <td>0</td>\n",
       "      <td>0</td>\n",
       "      <td>0</td>\n",
       "    </tr>\n",
       "  </tbody>\n",
       "</table>\n",
       "</div>"
      ],
      "text/plain": [
       "   Unnamed: 0 data_inversa dia_semana   horario  uf     br  \\\n",
       "0           0   2017-01-01    domingo  18:30:00  SP  153.0   \n",
       "1           1   2017-01-01    domingo  17:00:00  RS  116.0   \n",
       "2           2   2017-01-01    domingo  17:00:00  RS  116.0   \n",
       "3           3   2017-01-01    domingo  17:00:00  RS  116.0   \n",
       "4           4   2017-01-01    domingo  17:00:00  RS  116.0   \n",
       "\n",
       "                            causa_acidente     tipo_acidente   fase_dia  \\\n",
       "0  Avarias e/ou desgaste excessivo no pneu        Tombamento  Pleno dia   \n",
       "1       Não guardar distância de segurança  Colisão traseira  Pleno dia   \n",
       "2       Não guardar distância de segurança  Colisão traseira  Pleno dia   \n",
       "3       Não guardar distância de segurança  Colisão traseira  Pleno dia   \n",
       "4       Não guardar distância de segurança  Colisão traseira  Pleno dia   \n",
       "\n",
       "   tipo_veiculo  idade  ilesos  feridos_leves  feridos_graves  mortos  \n",
       "0   Motocicleta   43.0       0              1               0       0  \n",
       "1  Micro-ônibus   43.0       1              0               0       0  \n",
       "2  Micro-ônibus   72.0       1              0               0       0  \n",
       "3     Automóvel   40.0       1              0               0       0  \n",
       "4     Automóvel   35.0       1              0               0       0  "
      ]
     },
     "execution_count": 3,
     "metadata": {},
     "output_type": "execute_result"
    }
   ],
   "source": [
    "df.head()"
   ]
  },
  {
   "cell_type": "code",
   "execution_count": 7,
   "metadata": {},
   "outputs": [
    {
     "data": {
      "text/plain": [
       "668079"
      ]
     },
     "execution_count": 7,
     "metadata": {},
     "output_type": "execute_result"
    }
   ],
   "source": [
    "ilesos = df['ilesos'].sum()\n",
    "ilesos"
   ]
  },
  {
   "cell_type": "code",
   "execution_count": 8,
   "metadata": {},
   "outputs": [
    {
     "data": {
      "text/plain": [
       "552080"
      ]
     },
     "execution_count": 8,
     "metadata": {},
     "output_type": "execute_result"
    }
   ],
   "source": [
    "leves = df['feridos_leves'].sum()\n",
    "leves"
   ]
  },
  {
   "cell_type": "code",
   "execution_count": 9,
   "metadata": {},
   "outputs": [
    {
     "data": {
      "text/plain": [
       "187441"
      ]
     },
     "execution_count": 9,
     "metadata": {},
     "output_type": "execute_result"
    }
   ],
   "source": [
    "graves = df['feridos_graves'].sum()\n",
    "graves"
   ]
  },
  {
   "cell_type": "code",
   "execution_count": 10,
   "metadata": {},
   "outputs": [
    {
     "data": {
      "text/plain": [
       "71030"
      ]
     },
     "execution_count": 10,
     "metadata": {},
     "output_type": "execute_result"
    }
   ],
   "source": [
    "mortos = df['mortos'].sum()\n",
    "mortos"
   ]
  },
  {
   "cell_type": "code",
   "execution_count": 19,
   "metadata": {},
   "outputs": [
    {
     "data": {
      "text/plain": [
       "dia_semana\n",
       "domingo          306445\n",
       "sábado           300593\n",
       "sexta-feira      272038\n",
       "segunda-feira    232452\n",
       "quinta-feira     226273\n",
       "quarta-feira     218865\n",
       "terça-feira      210313\n",
       "Name: dia_semana, dtype: int64"
      ]
     },
     "execution_count": 19,
     "metadata": {},
     "output_type": "execute_result"
    }
   ],
   "source": [
    "week_accident = df.groupby('dia_semana')['dia_semana'].count().sort_values(ascending = False)\n",
    "week_accident"
   ]
  },
  {
   "cell_type": "code",
   "execution_count": 20,
   "metadata": {},
   "outputs": [
    {
     "data": {
      "application/vnd.plotly.v1+json": {
       "config": {
        "plotlyServerURL": "https://plot.ly"
       },
       "data": [
        {
         "type": "bar",
         "x": [
          "domingo",
          "sábado",
          "sexta-feira",
          "segunda-feira",
          "quinta-feira",
          "quarta-feira",
          "terça-feira"
         ],
         "y": [
          306445,
          300593,
          272038,
          232452,
          226273,
          218865,
          210313
         ]
        }
       ],
       "layout": {
        "template": {
         "data": {
          "bar": [
           {
            "error_x": {
             "color": "#2a3f5f"
            },
            "error_y": {
             "color": "#2a3f5f"
            },
            "marker": {
             "line": {
              "color": "#E5ECF6",
              "width": 0.5
             },
             "pattern": {
              "fillmode": "overlay",
              "size": 10,
              "solidity": 0.2
             }
            },
            "type": "bar"
           }
          ],
          "barpolar": [
           {
            "marker": {
             "line": {
              "color": "#E5ECF6",
              "width": 0.5
             },
             "pattern": {
              "fillmode": "overlay",
              "size": 10,
              "solidity": 0.2
             }
            },
            "type": "barpolar"
           }
          ],
          "carpet": [
           {
            "aaxis": {
             "endlinecolor": "#2a3f5f",
             "gridcolor": "white",
             "linecolor": "white",
             "minorgridcolor": "white",
             "startlinecolor": "#2a3f5f"
            },
            "baxis": {
             "endlinecolor": "#2a3f5f",
             "gridcolor": "white",
             "linecolor": "white",
             "minorgridcolor": "white",
             "startlinecolor": "#2a3f5f"
            },
            "type": "carpet"
           }
          ],
          "choropleth": [
           {
            "colorbar": {
             "outlinewidth": 0,
             "ticks": ""
            },
            "type": "choropleth"
           }
          ],
          "contour": [
           {
            "colorbar": {
             "outlinewidth": 0,
             "ticks": ""
            },
            "colorscale": [
             [
              0,
              "#0d0887"
             ],
             [
              0.1111111111111111,
              "#46039f"
             ],
             [
              0.2222222222222222,
              "#7201a8"
             ],
             [
              0.3333333333333333,
              "#9c179e"
             ],
             [
              0.4444444444444444,
              "#bd3786"
             ],
             [
              0.5555555555555556,
              "#d8576b"
             ],
             [
              0.6666666666666666,
              "#ed7953"
             ],
             [
              0.7777777777777778,
              "#fb9f3a"
             ],
             [
              0.8888888888888888,
              "#fdca26"
             ],
             [
              1,
              "#f0f921"
             ]
            ],
            "type": "contour"
           }
          ],
          "contourcarpet": [
           {
            "colorbar": {
             "outlinewidth": 0,
             "ticks": ""
            },
            "type": "contourcarpet"
           }
          ],
          "heatmap": [
           {
            "colorbar": {
             "outlinewidth": 0,
             "ticks": ""
            },
            "colorscale": [
             [
              0,
              "#0d0887"
             ],
             [
              0.1111111111111111,
              "#46039f"
             ],
             [
              0.2222222222222222,
              "#7201a8"
             ],
             [
              0.3333333333333333,
              "#9c179e"
             ],
             [
              0.4444444444444444,
              "#bd3786"
             ],
             [
              0.5555555555555556,
              "#d8576b"
             ],
             [
              0.6666666666666666,
              "#ed7953"
             ],
             [
              0.7777777777777778,
              "#fb9f3a"
             ],
             [
              0.8888888888888888,
              "#fdca26"
             ],
             [
              1,
              "#f0f921"
             ]
            ],
            "type": "heatmap"
           }
          ],
          "heatmapgl": [
           {
            "colorbar": {
             "outlinewidth": 0,
             "ticks": ""
            },
            "colorscale": [
             [
              0,
              "#0d0887"
             ],
             [
              0.1111111111111111,
              "#46039f"
             ],
             [
              0.2222222222222222,
              "#7201a8"
             ],
             [
              0.3333333333333333,
              "#9c179e"
             ],
             [
              0.4444444444444444,
              "#bd3786"
             ],
             [
              0.5555555555555556,
              "#d8576b"
             ],
             [
              0.6666666666666666,
              "#ed7953"
             ],
             [
              0.7777777777777778,
              "#fb9f3a"
             ],
             [
              0.8888888888888888,
              "#fdca26"
             ],
             [
              1,
              "#f0f921"
             ]
            ],
            "type": "heatmapgl"
           }
          ],
          "histogram": [
           {
            "marker": {
             "pattern": {
              "fillmode": "overlay",
              "size": 10,
              "solidity": 0.2
             }
            },
            "type": "histogram"
           }
          ],
          "histogram2d": [
           {
            "colorbar": {
             "outlinewidth": 0,
             "ticks": ""
            },
            "colorscale": [
             [
              0,
              "#0d0887"
             ],
             [
              0.1111111111111111,
              "#46039f"
             ],
             [
              0.2222222222222222,
              "#7201a8"
             ],
             [
              0.3333333333333333,
              "#9c179e"
             ],
             [
              0.4444444444444444,
              "#bd3786"
             ],
             [
              0.5555555555555556,
              "#d8576b"
             ],
             [
              0.6666666666666666,
              "#ed7953"
             ],
             [
              0.7777777777777778,
              "#fb9f3a"
             ],
             [
              0.8888888888888888,
              "#fdca26"
             ],
             [
              1,
              "#f0f921"
             ]
            ],
            "type": "histogram2d"
           }
          ],
          "histogram2dcontour": [
           {
            "colorbar": {
             "outlinewidth": 0,
             "ticks": ""
            },
            "colorscale": [
             [
              0,
              "#0d0887"
             ],
             [
              0.1111111111111111,
              "#46039f"
             ],
             [
              0.2222222222222222,
              "#7201a8"
             ],
             [
              0.3333333333333333,
              "#9c179e"
             ],
             [
              0.4444444444444444,
              "#bd3786"
             ],
             [
              0.5555555555555556,
              "#d8576b"
             ],
             [
              0.6666666666666666,
              "#ed7953"
             ],
             [
              0.7777777777777778,
              "#fb9f3a"
             ],
             [
              0.8888888888888888,
              "#fdca26"
             ],
             [
              1,
              "#f0f921"
             ]
            ],
            "type": "histogram2dcontour"
           }
          ],
          "mesh3d": [
           {
            "colorbar": {
             "outlinewidth": 0,
             "ticks": ""
            },
            "type": "mesh3d"
           }
          ],
          "parcoords": [
           {
            "line": {
             "colorbar": {
              "outlinewidth": 0,
              "ticks": ""
             }
            },
            "type": "parcoords"
           }
          ],
          "pie": [
           {
            "automargin": true,
            "type": "pie"
           }
          ],
          "scatter": [
           {
            "marker": {
             "colorbar": {
              "outlinewidth": 0,
              "ticks": ""
             }
            },
            "type": "scatter"
           }
          ],
          "scatter3d": [
           {
            "line": {
             "colorbar": {
              "outlinewidth": 0,
              "ticks": ""
             }
            },
            "marker": {
             "colorbar": {
              "outlinewidth": 0,
              "ticks": ""
             }
            },
            "type": "scatter3d"
           }
          ],
          "scattercarpet": [
           {
            "marker": {
             "colorbar": {
              "outlinewidth": 0,
              "ticks": ""
             }
            },
            "type": "scattercarpet"
           }
          ],
          "scattergeo": [
           {
            "marker": {
             "colorbar": {
              "outlinewidth": 0,
              "ticks": ""
             }
            },
            "type": "scattergeo"
           }
          ],
          "scattergl": [
           {
            "marker": {
             "colorbar": {
              "outlinewidth": 0,
              "ticks": ""
             }
            },
            "type": "scattergl"
           }
          ],
          "scattermapbox": [
           {
            "marker": {
             "colorbar": {
              "outlinewidth": 0,
              "ticks": ""
             }
            },
            "type": "scattermapbox"
           }
          ],
          "scatterpolar": [
           {
            "marker": {
             "colorbar": {
              "outlinewidth": 0,
              "ticks": ""
             }
            },
            "type": "scatterpolar"
           }
          ],
          "scatterpolargl": [
           {
            "marker": {
             "colorbar": {
              "outlinewidth": 0,
              "ticks": ""
             }
            },
            "type": "scatterpolargl"
           }
          ],
          "scatterternary": [
           {
            "marker": {
             "colorbar": {
              "outlinewidth": 0,
              "ticks": ""
             }
            },
            "type": "scatterternary"
           }
          ],
          "surface": [
           {
            "colorbar": {
             "outlinewidth": 0,
             "ticks": ""
            },
            "colorscale": [
             [
              0,
              "#0d0887"
             ],
             [
              0.1111111111111111,
              "#46039f"
             ],
             [
              0.2222222222222222,
              "#7201a8"
             ],
             [
              0.3333333333333333,
              "#9c179e"
             ],
             [
              0.4444444444444444,
              "#bd3786"
             ],
             [
              0.5555555555555556,
              "#d8576b"
             ],
             [
              0.6666666666666666,
              "#ed7953"
             ],
             [
              0.7777777777777778,
              "#fb9f3a"
             ],
             [
              0.8888888888888888,
              "#fdca26"
             ],
             [
              1,
              "#f0f921"
             ]
            ],
            "type": "surface"
           }
          ],
          "table": [
           {
            "cells": {
             "fill": {
              "color": "#EBF0F8"
             },
             "line": {
              "color": "white"
             }
            },
            "header": {
             "fill": {
              "color": "#C8D4E3"
             },
             "line": {
              "color": "white"
             }
            },
            "type": "table"
           }
          ]
         },
         "layout": {
          "annotationdefaults": {
           "arrowcolor": "#2a3f5f",
           "arrowhead": 0,
           "arrowwidth": 1
          },
          "autotypenumbers": "strict",
          "coloraxis": {
           "colorbar": {
            "outlinewidth": 0,
            "ticks": ""
           }
          },
          "colorscale": {
           "diverging": [
            [
             0,
             "#8e0152"
            ],
            [
             0.1,
             "#c51b7d"
            ],
            [
             0.2,
             "#de77ae"
            ],
            [
             0.3,
             "#f1b6da"
            ],
            [
             0.4,
             "#fde0ef"
            ],
            [
             0.5,
             "#f7f7f7"
            ],
            [
             0.6,
             "#e6f5d0"
            ],
            [
             0.7,
             "#b8e186"
            ],
            [
             0.8,
             "#7fbc41"
            ],
            [
             0.9,
             "#4d9221"
            ],
            [
             1,
             "#276419"
            ]
           ],
           "sequential": [
            [
             0,
             "#0d0887"
            ],
            [
             0.1111111111111111,
             "#46039f"
            ],
            [
             0.2222222222222222,
             "#7201a8"
            ],
            [
             0.3333333333333333,
             "#9c179e"
            ],
            [
             0.4444444444444444,
             "#bd3786"
            ],
            [
             0.5555555555555556,
             "#d8576b"
            ],
            [
             0.6666666666666666,
             "#ed7953"
            ],
            [
             0.7777777777777778,
             "#fb9f3a"
            ],
            [
             0.8888888888888888,
             "#fdca26"
            ],
            [
             1,
             "#f0f921"
            ]
           ],
           "sequentialminus": [
            [
             0,
             "#0d0887"
            ],
            [
             0.1111111111111111,
             "#46039f"
            ],
            [
             0.2222222222222222,
             "#7201a8"
            ],
            [
             0.3333333333333333,
             "#9c179e"
            ],
            [
             0.4444444444444444,
             "#bd3786"
            ],
            [
             0.5555555555555556,
             "#d8576b"
            ],
            [
             0.6666666666666666,
             "#ed7953"
            ],
            [
             0.7777777777777778,
             "#fb9f3a"
            ],
            [
             0.8888888888888888,
             "#fdca26"
            ],
            [
             1,
             "#f0f921"
            ]
           ]
          },
          "colorway": [
           "#636efa",
           "#EF553B",
           "#00cc96",
           "#ab63fa",
           "#FFA15A",
           "#19d3f3",
           "#FF6692",
           "#B6E880",
           "#FF97FF",
           "#FECB52"
          ],
          "font": {
           "color": "#2a3f5f"
          },
          "geo": {
           "bgcolor": "white",
           "lakecolor": "white",
           "landcolor": "#E5ECF6",
           "showlakes": true,
           "showland": true,
           "subunitcolor": "white"
          },
          "hoverlabel": {
           "align": "left"
          },
          "hovermode": "closest",
          "mapbox": {
           "style": "light"
          },
          "paper_bgcolor": "white",
          "plot_bgcolor": "#E5ECF6",
          "polar": {
           "angularaxis": {
            "gridcolor": "white",
            "linecolor": "white",
            "ticks": ""
           },
           "bgcolor": "#E5ECF6",
           "radialaxis": {
            "gridcolor": "white",
            "linecolor": "white",
            "ticks": ""
           }
          },
          "scene": {
           "xaxis": {
            "backgroundcolor": "#E5ECF6",
            "gridcolor": "white",
            "gridwidth": 2,
            "linecolor": "white",
            "showbackground": true,
            "ticks": "",
            "zerolinecolor": "white"
           },
           "yaxis": {
            "backgroundcolor": "#E5ECF6",
            "gridcolor": "white",
            "gridwidth": 2,
            "linecolor": "white",
            "showbackground": true,
            "ticks": "",
            "zerolinecolor": "white"
           },
           "zaxis": {
            "backgroundcolor": "#E5ECF6",
            "gridcolor": "white",
            "gridwidth": 2,
            "linecolor": "white",
            "showbackground": true,
            "ticks": "",
            "zerolinecolor": "white"
           }
          },
          "shapedefaults": {
           "line": {
            "color": "#2a3f5f"
           }
          },
          "ternary": {
           "aaxis": {
            "gridcolor": "white",
            "linecolor": "white",
            "ticks": ""
           },
           "baxis": {
            "gridcolor": "white",
            "linecolor": "white",
            "ticks": ""
           },
           "bgcolor": "#E5ECF6",
           "caxis": {
            "gridcolor": "white",
            "linecolor": "white",
            "ticks": ""
           }
          },
          "title": {
           "x": 0.05
          },
          "xaxis": {
           "automargin": true,
           "gridcolor": "white",
           "linecolor": "white",
           "ticks": "",
           "title": {
            "standoff": 15
           },
           "zerolinecolor": "white",
           "zerolinewidth": 2
          },
          "yaxis": {
           "automargin": true,
           "gridcolor": "white",
           "linecolor": "white",
           "ticks": "",
           "title": {
            "standoff": 15
           },
           "zerolinecolor": "white",
           "zerolinewidth": 2
          }
         }
        }
       }
      },
      "text/html": [
       "<div>                            <div id=\"b93c813b-c930-4a99-b57c-20b560cf9593\" class=\"plotly-graph-div\" style=\"height:525px; width:100%;\"></div>            <script type=\"text/javascript\">                require([\"plotly\"], function(Plotly) {                    window.PLOTLYENV=window.PLOTLYENV || {};                                    if (document.getElementById(\"b93c813b-c930-4a99-b57c-20b560cf9593\")) {                    Plotly.newPlot(                        \"b93c813b-c930-4a99-b57c-20b560cf9593\",                        [{\"x\":[\"domingo\",\"s\\u00e1bado\",\"sexta-feira\",\"segunda-feira\",\"quinta-feira\",\"quarta-feira\",\"ter\\u00e7a-feira\"],\"y\":[306445,300593,272038,232452,226273,218865,210313],\"type\":\"bar\"}],                        {\"template\":{\"data\":{\"bar\":[{\"error_x\":{\"color\":\"#2a3f5f\"},\"error_y\":{\"color\":\"#2a3f5f\"},\"marker\":{\"line\":{\"color\":\"#E5ECF6\",\"width\":0.5},\"pattern\":{\"fillmode\":\"overlay\",\"size\":10,\"solidity\":0.2}},\"type\":\"bar\"}],\"barpolar\":[{\"marker\":{\"line\":{\"color\":\"#E5ECF6\",\"width\":0.5},\"pattern\":{\"fillmode\":\"overlay\",\"size\":10,\"solidity\":0.2}},\"type\":\"barpolar\"}],\"carpet\":[{\"aaxis\":{\"endlinecolor\":\"#2a3f5f\",\"gridcolor\":\"white\",\"linecolor\":\"white\",\"minorgridcolor\":\"white\",\"startlinecolor\":\"#2a3f5f\"},\"baxis\":{\"endlinecolor\":\"#2a3f5f\",\"gridcolor\":\"white\",\"linecolor\":\"white\",\"minorgridcolor\":\"white\",\"startlinecolor\":\"#2a3f5f\"},\"type\":\"carpet\"}],\"choropleth\":[{\"colorbar\":{\"outlinewidth\":0,\"ticks\":\"\"},\"type\":\"choropleth\"}],\"contour\":[{\"colorbar\":{\"outlinewidth\":0,\"ticks\":\"\"},\"colorscale\":[[0.0,\"#0d0887\"],[0.1111111111111111,\"#46039f\"],[0.2222222222222222,\"#7201a8\"],[0.3333333333333333,\"#9c179e\"],[0.4444444444444444,\"#bd3786\"],[0.5555555555555556,\"#d8576b\"],[0.6666666666666666,\"#ed7953\"],[0.7777777777777778,\"#fb9f3a\"],[0.8888888888888888,\"#fdca26\"],[1.0,\"#f0f921\"]],\"type\":\"contour\"}],\"contourcarpet\":[{\"colorbar\":{\"outlinewidth\":0,\"ticks\":\"\"},\"type\":\"contourcarpet\"}],\"heatmap\":[{\"colorbar\":{\"outlinewidth\":0,\"ticks\":\"\"},\"colorscale\":[[0.0,\"#0d0887\"],[0.1111111111111111,\"#46039f\"],[0.2222222222222222,\"#7201a8\"],[0.3333333333333333,\"#9c179e\"],[0.4444444444444444,\"#bd3786\"],[0.5555555555555556,\"#d8576b\"],[0.6666666666666666,\"#ed7953\"],[0.7777777777777778,\"#fb9f3a\"],[0.8888888888888888,\"#fdca26\"],[1.0,\"#f0f921\"]],\"type\":\"heatmap\"}],\"heatmapgl\":[{\"colorbar\":{\"outlinewidth\":0,\"ticks\":\"\"},\"colorscale\":[[0.0,\"#0d0887\"],[0.1111111111111111,\"#46039f\"],[0.2222222222222222,\"#7201a8\"],[0.3333333333333333,\"#9c179e\"],[0.4444444444444444,\"#bd3786\"],[0.5555555555555556,\"#d8576b\"],[0.6666666666666666,\"#ed7953\"],[0.7777777777777778,\"#fb9f3a\"],[0.8888888888888888,\"#fdca26\"],[1.0,\"#f0f921\"]],\"type\":\"heatmapgl\"}],\"histogram\":[{\"marker\":{\"pattern\":{\"fillmode\":\"overlay\",\"size\":10,\"solidity\":0.2}},\"type\":\"histogram\"}],\"histogram2d\":[{\"colorbar\":{\"outlinewidth\":0,\"ticks\":\"\"},\"colorscale\":[[0.0,\"#0d0887\"],[0.1111111111111111,\"#46039f\"],[0.2222222222222222,\"#7201a8\"],[0.3333333333333333,\"#9c179e\"],[0.4444444444444444,\"#bd3786\"],[0.5555555555555556,\"#d8576b\"],[0.6666666666666666,\"#ed7953\"],[0.7777777777777778,\"#fb9f3a\"],[0.8888888888888888,\"#fdca26\"],[1.0,\"#f0f921\"]],\"type\":\"histogram2d\"}],\"histogram2dcontour\":[{\"colorbar\":{\"outlinewidth\":0,\"ticks\":\"\"},\"colorscale\":[[0.0,\"#0d0887\"],[0.1111111111111111,\"#46039f\"],[0.2222222222222222,\"#7201a8\"],[0.3333333333333333,\"#9c179e\"],[0.4444444444444444,\"#bd3786\"],[0.5555555555555556,\"#d8576b\"],[0.6666666666666666,\"#ed7953\"],[0.7777777777777778,\"#fb9f3a\"],[0.8888888888888888,\"#fdca26\"],[1.0,\"#f0f921\"]],\"type\":\"histogram2dcontour\"}],\"mesh3d\":[{\"colorbar\":{\"outlinewidth\":0,\"ticks\":\"\"},\"type\":\"mesh3d\"}],\"parcoords\":[{\"line\":{\"colorbar\":{\"outlinewidth\":0,\"ticks\":\"\"}},\"type\":\"parcoords\"}],\"pie\":[{\"automargin\":true,\"type\":\"pie\"}],\"scatter\":[{\"marker\":{\"colorbar\":{\"outlinewidth\":0,\"ticks\":\"\"}},\"type\":\"scatter\"}],\"scatter3d\":[{\"line\":{\"colorbar\":{\"outlinewidth\":0,\"ticks\":\"\"}},\"marker\":{\"colorbar\":{\"outlinewidth\":0,\"ticks\":\"\"}},\"type\":\"scatter3d\"}],\"scattercarpet\":[{\"marker\":{\"colorbar\":{\"outlinewidth\":0,\"ticks\":\"\"}},\"type\":\"scattercarpet\"}],\"scattergeo\":[{\"marker\":{\"colorbar\":{\"outlinewidth\":0,\"ticks\":\"\"}},\"type\":\"scattergeo\"}],\"scattergl\":[{\"marker\":{\"colorbar\":{\"outlinewidth\":0,\"ticks\":\"\"}},\"type\":\"scattergl\"}],\"scattermapbox\":[{\"marker\":{\"colorbar\":{\"outlinewidth\":0,\"ticks\":\"\"}},\"type\":\"scattermapbox\"}],\"scatterpolar\":[{\"marker\":{\"colorbar\":{\"outlinewidth\":0,\"ticks\":\"\"}},\"type\":\"scatterpolar\"}],\"scatterpolargl\":[{\"marker\":{\"colorbar\":{\"outlinewidth\":0,\"ticks\":\"\"}},\"type\":\"scatterpolargl\"}],\"scatterternary\":[{\"marker\":{\"colorbar\":{\"outlinewidth\":0,\"ticks\":\"\"}},\"type\":\"scatterternary\"}],\"surface\":[{\"colorbar\":{\"outlinewidth\":0,\"ticks\":\"\"},\"colorscale\":[[0.0,\"#0d0887\"],[0.1111111111111111,\"#46039f\"],[0.2222222222222222,\"#7201a8\"],[0.3333333333333333,\"#9c179e\"],[0.4444444444444444,\"#bd3786\"],[0.5555555555555556,\"#d8576b\"],[0.6666666666666666,\"#ed7953\"],[0.7777777777777778,\"#fb9f3a\"],[0.8888888888888888,\"#fdca26\"],[1.0,\"#f0f921\"]],\"type\":\"surface\"}],\"table\":[{\"cells\":{\"fill\":{\"color\":\"#EBF0F8\"},\"line\":{\"color\":\"white\"}},\"header\":{\"fill\":{\"color\":\"#C8D4E3\"},\"line\":{\"color\":\"white\"}},\"type\":\"table\"}]},\"layout\":{\"annotationdefaults\":{\"arrowcolor\":\"#2a3f5f\",\"arrowhead\":0,\"arrowwidth\":1},\"autotypenumbers\":\"strict\",\"coloraxis\":{\"colorbar\":{\"outlinewidth\":0,\"ticks\":\"\"}},\"colorscale\":{\"diverging\":[[0,\"#8e0152\"],[0.1,\"#c51b7d\"],[0.2,\"#de77ae\"],[0.3,\"#f1b6da\"],[0.4,\"#fde0ef\"],[0.5,\"#f7f7f7\"],[0.6,\"#e6f5d0\"],[0.7,\"#b8e186\"],[0.8,\"#7fbc41\"],[0.9,\"#4d9221\"],[1,\"#276419\"]],\"sequential\":[[0.0,\"#0d0887\"],[0.1111111111111111,\"#46039f\"],[0.2222222222222222,\"#7201a8\"],[0.3333333333333333,\"#9c179e\"],[0.4444444444444444,\"#bd3786\"],[0.5555555555555556,\"#d8576b\"],[0.6666666666666666,\"#ed7953\"],[0.7777777777777778,\"#fb9f3a\"],[0.8888888888888888,\"#fdca26\"],[1.0,\"#f0f921\"]],\"sequentialminus\":[[0.0,\"#0d0887\"],[0.1111111111111111,\"#46039f\"],[0.2222222222222222,\"#7201a8\"],[0.3333333333333333,\"#9c179e\"],[0.4444444444444444,\"#bd3786\"],[0.5555555555555556,\"#d8576b\"],[0.6666666666666666,\"#ed7953\"],[0.7777777777777778,\"#fb9f3a\"],[0.8888888888888888,\"#fdca26\"],[1.0,\"#f0f921\"]]},\"colorway\":[\"#636efa\",\"#EF553B\",\"#00cc96\",\"#ab63fa\",\"#FFA15A\",\"#19d3f3\",\"#FF6692\",\"#B6E880\",\"#FF97FF\",\"#FECB52\"],\"font\":{\"color\":\"#2a3f5f\"},\"geo\":{\"bgcolor\":\"white\",\"lakecolor\":\"white\",\"landcolor\":\"#E5ECF6\",\"showlakes\":true,\"showland\":true,\"subunitcolor\":\"white\"},\"hoverlabel\":{\"align\":\"left\"},\"hovermode\":\"closest\",\"mapbox\":{\"style\":\"light\"},\"paper_bgcolor\":\"white\",\"plot_bgcolor\":\"#E5ECF6\",\"polar\":{\"angularaxis\":{\"gridcolor\":\"white\",\"linecolor\":\"white\",\"ticks\":\"\"},\"bgcolor\":\"#E5ECF6\",\"radialaxis\":{\"gridcolor\":\"white\",\"linecolor\":\"white\",\"ticks\":\"\"}},\"scene\":{\"xaxis\":{\"backgroundcolor\":\"#E5ECF6\",\"gridcolor\":\"white\",\"gridwidth\":2,\"linecolor\":\"white\",\"showbackground\":true,\"ticks\":\"\",\"zerolinecolor\":\"white\"},\"yaxis\":{\"backgroundcolor\":\"#E5ECF6\",\"gridcolor\":\"white\",\"gridwidth\":2,\"linecolor\":\"white\",\"showbackground\":true,\"ticks\":\"\",\"zerolinecolor\":\"white\"},\"zaxis\":{\"backgroundcolor\":\"#E5ECF6\",\"gridcolor\":\"white\",\"gridwidth\":2,\"linecolor\":\"white\",\"showbackground\":true,\"ticks\":\"\",\"zerolinecolor\":\"white\"}},\"shapedefaults\":{\"line\":{\"color\":\"#2a3f5f\"}},\"ternary\":{\"aaxis\":{\"gridcolor\":\"white\",\"linecolor\":\"white\",\"ticks\":\"\"},\"baxis\":{\"gridcolor\":\"white\",\"linecolor\":\"white\",\"ticks\":\"\"},\"bgcolor\":\"#E5ECF6\",\"caxis\":{\"gridcolor\":\"white\",\"linecolor\":\"white\",\"ticks\":\"\"}},\"title\":{\"x\":0.05},\"xaxis\":{\"automargin\":true,\"gridcolor\":\"white\",\"linecolor\":\"white\",\"ticks\":\"\",\"title\":{\"standoff\":15},\"zerolinecolor\":\"white\",\"zerolinewidth\":2},\"yaxis\":{\"automargin\":true,\"gridcolor\":\"white\",\"linecolor\":\"white\",\"ticks\":\"\",\"title\":{\"standoff\":15},\"zerolinecolor\":\"white\",\"zerolinewidth\":2}}}},                        {\"responsive\": true}                    ).then(function(){\n",
       "                            \n",
       "var gd = document.getElementById('b93c813b-c930-4a99-b57c-20b560cf9593');\n",
       "var x = new MutationObserver(function (mutations, observer) {{\n",
       "        var display = window.getComputedStyle(gd).display;\n",
       "        if (!display || display === 'none') {{\n",
       "            console.log([gd, 'removed!']);\n",
       "            Plotly.purge(gd);\n",
       "            observer.disconnect();\n",
       "        }}\n",
       "}});\n",
       "\n",
       "// Listen for the removal of the full notebook cells\n",
       "var notebookContainer = gd.closest('#notebook-container');\n",
       "if (notebookContainer) {{\n",
       "    x.observe(notebookContainer, {childList: true});\n",
       "}}\n",
       "\n",
       "// Listen for the clearing of the current output cell\n",
       "var outputEl = gd.closest('.output');\n",
       "if (outputEl) {{\n",
       "    x.observe(outputEl, {childList: true});\n",
       "}}\n",
       "\n",
       "                        })                };                });            </script>        </div>"
      ]
     },
     "metadata": {},
     "output_type": "display_data"
    }
   ],
   "source": [
    "data = {\n",
    "    'x':week_accident.keys(),\n",
    "    'y': week_accident.tolist(),\n",
    "    'type':'bar',\n",
    "}\n",
    "\n",
    "fig = go.Figure(\n",
    "    data = data\n",
    ")\n",
    "fig"
   ]
  },
  {
   "cell_type": "code",
   "execution_count": 14,
   "metadata": {},
   "outputs": [
    {
     "data": {
      "text/html": [
       "<div>\n",
       "<style scoped>\n",
       "    .dataframe tbody tr th:only-of-type {\n",
       "        vertical-align: middle;\n",
       "    }\n",
       "\n",
       "    .dataframe tbody tr th {\n",
       "        vertical-align: top;\n",
       "    }\n",
       "\n",
       "    .dataframe thead th {\n",
       "        text-align: right;\n",
       "    }\n",
       "</style>\n",
       "<table border=\"1\" class=\"dataframe\">\n",
       "  <thead>\n",
       "    <tr style=\"text-align: right;\">\n",
       "      <th></th>\n",
       "      <th>Unnamed: 0</th>\n",
       "      <th>data_inversa</th>\n",
       "      <th>dia_semana</th>\n",
       "      <th>horario</th>\n",
       "      <th>uf</th>\n",
       "      <th>br</th>\n",
       "      <th>causa_acidente</th>\n",
       "      <th>tipo_acidente</th>\n",
       "      <th>fase_dia</th>\n",
       "      <th>tipo_veiculo</th>\n",
       "      <th>idade</th>\n",
       "      <th>ilesos</th>\n",
       "      <th>feridos_leves</th>\n",
       "      <th>feridos_graves</th>\n",
       "      <th>mortos</th>\n",
       "    </tr>\n",
       "  </thead>\n",
       "  <tbody>\n",
       "    <tr>\n",
       "      <th>0</th>\n",
       "      <td>0</td>\n",
       "      <td>2017-01-01</td>\n",
       "      <td>domingo</td>\n",
       "      <td>18:30:00</td>\n",
       "      <td>SP</td>\n",
       "      <td>153.0</td>\n",
       "      <td>Avarias e/ou desgaste excessivo no pneu</td>\n",
       "      <td>Tombamento</td>\n",
       "      <td>Pleno dia</td>\n",
       "      <td>Motocicleta</td>\n",
       "      <td>43.0</td>\n",
       "      <td>0</td>\n",
       "      <td>1</td>\n",
       "      <td>0</td>\n",
       "      <td>0</td>\n",
       "    </tr>\n",
       "    <tr>\n",
       "      <th>1</th>\n",
       "      <td>1</td>\n",
       "      <td>2017-01-01</td>\n",
       "      <td>domingo</td>\n",
       "      <td>17:00:00</td>\n",
       "      <td>RS</td>\n",
       "      <td>116.0</td>\n",
       "      <td>Não guardar distância de segurança</td>\n",
       "      <td>Colisão traseira</td>\n",
       "      <td>Pleno dia</td>\n",
       "      <td>Micro-ônibus</td>\n",
       "      <td>43.0</td>\n",
       "      <td>1</td>\n",
       "      <td>0</td>\n",
       "      <td>0</td>\n",
       "      <td>0</td>\n",
       "    </tr>\n",
       "    <tr>\n",
       "      <th>2</th>\n",
       "      <td>2</td>\n",
       "      <td>2017-01-01</td>\n",
       "      <td>domingo</td>\n",
       "      <td>17:00:00</td>\n",
       "      <td>RS</td>\n",
       "      <td>116.0</td>\n",
       "      <td>Não guardar distância de segurança</td>\n",
       "      <td>Colisão traseira</td>\n",
       "      <td>Pleno dia</td>\n",
       "      <td>Micro-ônibus</td>\n",
       "      <td>72.0</td>\n",
       "      <td>1</td>\n",
       "      <td>0</td>\n",
       "      <td>0</td>\n",
       "      <td>0</td>\n",
       "    </tr>\n",
       "    <tr>\n",
       "      <th>3</th>\n",
       "      <td>3</td>\n",
       "      <td>2017-01-01</td>\n",
       "      <td>domingo</td>\n",
       "      <td>17:00:00</td>\n",
       "      <td>RS</td>\n",
       "      <td>116.0</td>\n",
       "      <td>Não guardar distância de segurança</td>\n",
       "      <td>Colisão traseira</td>\n",
       "      <td>Pleno dia</td>\n",
       "      <td>Automóvel</td>\n",
       "      <td>40.0</td>\n",
       "      <td>1</td>\n",
       "      <td>0</td>\n",
       "      <td>0</td>\n",
       "      <td>0</td>\n",
       "    </tr>\n",
       "    <tr>\n",
       "      <th>4</th>\n",
       "      <td>4</td>\n",
       "      <td>2017-01-01</td>\n",
       "      <td>domingo</td>\n",
       "      <td>17:00:00</td>\n",
       "      <td>RS</td>\n",
       "      <td>116.0</td>\n",
       "      <td>Não guardar distância de segurança</td>\n",
       "      <td>Colisão traseira</td>\n",
       "      <td>Pleno dia</td>\n",
       "      <td>Automóvel</td>\n",
       "      <td>35.0</td>\n",
       "      <td>1</td>\n",
       "      <td>0</td>\n",
       "      <td>0</td>\n",
       "      <td>0</td>\n",
       "    </tr>\n",
       "  </tbody>\n",
       "</table>\n",
       "</div>"
      ],
      "text/plain": [
       "   Unnamed: 0 data_inversa dia_semana   horario  uf     br  \\\n",
       "0           0   2017-01-01    domingo  18:30:00  SP  153.0   \n",
       "1           1   2017-01-01    domingo  17:00:00  RS  116.0   \n",
       "2           2   2017-01-01    domingo  17:00:00  RS  116.0   \n",
       "3           3   2017-01-01    domingo  17:00:00  RS  116.0   \n",
       "4           4   2017-01-01    domingo  17:00:00  RS  116.0   \n",
       "\n",
       "                            causa_acidente     tipo_acidente   fase_dia  \\\n",
       "0  Avarias e/ou desgaste excessivo no pneu        Tombamento  Pleno dia   \n",
       "1       Não guardar distância de segurança  Colisão traseira  Pleno dia   \n",
       "2       Não guardar distância de segurança  Colisão traseira  Pleno dia   \n",
       "3       Não guardar distância de segurança  Colisão traseira  Pleno dia   \n",
       "4       Não guardar distância de segurança  Colisão traseira  Pleno dia   \n",
       "\n",
       "   tipo_veiculo  idade  ilesos  feridos_leves  feridos_graves  mortos  \n",
       "0   Motocicleta   43.0       0              1               0       0  \n",
       "1  Micro-ônibus   43.0       1              0               0       0  \n",
       "2  Micro-ônibus   72.0       1              0               0       0  \n",
       "3     Automóvel   40.0       1              0               0       0  \n",
       "4     Automóvel   35.0       1              0               0       0  "
      ]
     },
     "execution_count": 14,
     "metadata": {},
     "output_type": "execute_result"
    }
   ],
   "source": [
    "df.head()"
   ]
  },
  {
   "cell_type": "code",
   "execution_count": 23,
   "metadata": {},
   "outputs": [],
   "source": [
    "df['YEAR'] = df['data_inversa'].str[:4]"
   ]
  },
  {
   "cell_type": "code",
   "execution_count": 25,
   "metadata": {},
   "outputs": [
    {
     "data": {
      "text/plain": [
       "YEAR\n",
       "2017    349067\n",
       "2018    324754\n",
       "2019    331626\n",
       "2020    394481\n",
       "2021    367051\n",
       "Name: YEAR, dtype: int64"
      ]
     },
     "execution_count": 25,
     "metadata": {},
     "output_type": "execute_result"
    }
   ],
   "source": [
    "year_accidents = df.groupby('YEAR')['YEAR'].count()\n",
    "year_accidents"
   ]
  },
  {
   "cell_type": "code",
   "execution_count": 27,
   "metadata": {},
   "outputs": [
    {
     "data": {
      "application/vnd.plotly.v1+json": {
       "config": {
        "plotlyServerURL": "https://plot.ly"
       },
       "data": [
        {
         "type": "scatter",
         "x": [
          "2017",
          "2018",
          "2019",
          "2020",
          "2021"
         ],
         "y": [
          349067,
          324754,
          331626,
          394481,
          367051
         ]
        }
       ],
       "layout": {
        "template": {
         "data": {
          "bar": [
           {
            "error_x": {
             "color": "#2a3f5f"
            },
            "error_y": {
             "color": "#2a3f5f"
            },
            "marker": {
             "line": {
              "color": "#E5ECF6",
              "width": 0.5
             },
             "pattern": {
              "fillmode": "overlay",
              "size": 10,
              "solidity": 0.2
             }
            },
            "type": "bar"
           }
          ],
          "barpolar": [
           {
            "marker": {
             "line": {
              "color": "#E5ECF6",
              "width": 0.5
             },
             "pattern": {
              "fillmode": "overlay",
              "size": 10,
              "solidity": 0.2
             }
            },
            "type": "barpolar"
           }
          ],
          "carpet": [
           {
            "aaxis": {
             "endlinecolor": "#2a3f5f",
             "gridcolor": "white",
             "linecolor": "white",
             "minorgridcolor": "white",
             "startlinecolor": "#2a3f5f"
            },
            "baxis": {
             "endlinecolor": "#2a3f5f",
             "gridcolor": "white",
             "linecolor": "white",
             "minorgridcolor": "white",
             "startlinecolor": "#2a3f5f"
            },
            "type": "carpet"
           }
          ],
          "choropleth": [
           {
            "colorbar": {
             "outlinewidth": 0,
             "ticks": ""
            },
            "type": "choropleth"
           }
          ],
          "contour": [
           {
            "colorbar": {
             "outlinewidth": 0,
             "ticks": ""
            },
            "colorscale": [
             [
              0,
              "#0d0887"
             ],
             [
              0.1111111111111111,
              "#46039f"
             ],
             [
              0.2222222222222222,
              "#7201a8"
             ],
             [
              0.3333333333333333,
              "#9c179e"
             ],
             [
              0.4444444444444444,
              "#bd3786"
             ],
             [
              0.5555555555555556,
              "#d8576b"
             ],
             [
              0.6666666666666666,
              "#ed7953"
             ],
             [
              0.7777777777777778,
              "#fb9f3a"
             ],
             [
              0.8888888888888888,
              "#fdca26"
             ],
             [
              1,
              "#f0f921"
             ]
            ],
            "type": "contour"
           }
          ],
          "contourcarpet": [
           {
            "colorbar": {
             "outlinewidth": 0,
             "ticks": ""
            },
            "type": "contourcarpet"
           }
          ],
          "heatmap": [
           {
            "colorbar": {
             "outlinewidth": 0,
             "ticks": ""
            },
            "colorscale": [
             [
              0,
              "#0d0887"
             ],
             [
              0.1111111111111111,
              "#46039f"
             ],
             [
              0.2222222222222222,
              "#7201a8"
             ],
             [
              0.3333333333333333,
              "#9c179e"
             ],
             [
              0.4444444444444444,
              "#bd3786"
             ],
             [
              0.5555555555555556,
              "#d8576b"
             ],
             [
              0.6666666666666666,
              "#ed7953"
             ],
             [
              0.7777777777777778,
              "#fb9f3a"
             ],
             [
              0.8888888888888888,
              "#fdca26"
             ],
             [
              1,
              "#f0f921"
             ]
            ],
            "type": "heatmap"
           }
          ],
          "heatmapgl": [
           {
            "colorbar": {
             "outlinewidth": 0,
             "ticks": ""
            },
            "colorscale": [
             [
              0,
              "#0d0887"
             ],
             [
              0.1111111111111111,
              "#46039f"
             ],
             [
              0.2222222222222222,
              "#7201a8"
             ],
             [
              0.3333333333333333,
              "#9c179e"
             ],
             [
              0.4444444444444444,
              "#bd3786"
             ],
             [
              0.5555555555555556,
              "#d8576b"
             ],
             [
              0.6666666666666666,
              "#ed7953"
             ],
             [
              0.7777777777777778,
              "#fb9f3a"
             ],
             [
              0.8888888888888888,
              "#fdca26"
             ],
             [
              1,
              "#f0f921"
             ]
            ],
            "type": "heatmapgl"
           }
          ],
          "histogram": [
           {
            "marker": {
             "pattern": {
              "fillmode": "overlay",
              "size": 10,
              "solidity": 0.2
             }
            },
            "type": "histogram"
           }
          ],
          "histogram2d": [
           {
            "colorbar": {
             "outlinewidth": 0,
             "ticks": ""
            },
            "colorscale": [
             [
              0,
              "#0d0887"
             ],
             [
              0.1111111111111111,
              "#46039f"
             ],
             [
              0.2222222222222222,
              "#7201a8"
             ],
             [
              0.3333333333333333,
              "#9c179e"
             ],
             [
              0.4444444444444444,
              "#bd3786"
             ],
             [
              0.5555555555555556,
              "#d8576b"
             ],
             [
              0.6666666666666666,
              "#ed7953"
             ],
             [
              0.7777777777777778,
              "#fb9f3a"
             ],
             [
              0.8888888888888888,
              "#fdca26"
             ],
             [
              1,
              "#f0f921"
             ]
            ],
            "type": "histogram2d"
           }
          ],
          "histogram2dcontour": [
           {
            "colorbar": {
             "outlinewidth": 0,
             "ticks": ""
            },
            "colorscale": [
             [
              0,
              "#0d0887"
             ],
             [
              0.1111111111111111,
              "#46039f"
             ],
             [
              0.2222222222222222,
              "#7201a8"
             ],
             [
              0.3333333333333333,
              "#9c179e"
             ],
             [
              0.4444444444444444,
              "#bd3786"
             ],
             [
              0.5555555555555556,
              "#d8576b"
             ],
             [
              0.6666666666666666,
              "#ed7953"
             ],
             [
              0.7777777777777778,
              "#fb9f3a"
             ],
             [
              0.8888888888888888,
              "#fdca26"
             ],
             [
              1,
              "#f0f921"
             ]
            ],
            "type": "histogram2dcontour"
           }
          ],
          "mesh3d": [
           {
            "colorbar": {
             "outlinewidth": 0,
             "ticks": ""
            },
            "type": "mesh3d"
           }
          ],
          "parcoords": [
           {
            "line": {
             "colorbar": {
              "outlinewidth": 0,
              "ticks": ""
             }
            },
            "type": "parcoords"
           }
          ],
          "pie": [
           {
            "automargin": true,
            "type": "pie"
           }
          ],
          "scatter": [
           {
            "marker": {
             "colorbar": {
              "outlinewidth": 0,
              "ticks": ""
             }
            },
            "type": "scatter"
           }
          ],
          "scatter3d": [
           {
            "line": {
             "colorbar": {
              "outlinewidth": 0,
              "ticks": ""
             }
            },
            "marker": {
             "colorbar": {
              "outlinewidth": 0,
              "ticks": ""
             }
            },
            "type": "scatter3d"
           }
          ],
          "scattercarpet": [
           {
            "marker": {
             "colorbar": {
              "outlinewidth": 0,
              "ticks": ""
             }
            },
            "type": "scattercarpet"
           }
          ],
          "scattergeo": [
           {
            "marker": {
             "colorbar": {
              "outlinewidth": 0,
              "ticks": ""
             }
            },
            "type": "scattergeo"
           }
          ],
          "scattergl": [
           {
            "marker": {
             "colorbar": {
              "outlinewidth": 0,
              "ticks": ""
             }
            },
            "type": "scattergl"
           }
          ],
          "scattermapbox": [
           {
            "marker": {
             "colorbar": {
              "outlinewidth": 0,
              "ticks": ""
             }
            },
            "type": "scattermapbox"
           }
          ],
          "scatterpolar": [
           {
            "marker": {
             "colorbar": {
              "outlinewidth": 0,
              "ticks": ""
             }
            },
            "type": "scatterpolar"
           }
          ],
          "scatterpolargl": [
           {
            "marker": {
             "colorbar": {
              "outlinewidth": 0,
              "ticks": ""
             }
            },
            "type": "scatterpolargl"
           }
          ],
          "scatterternary": [
           {
            "marker": {
             "colorbar": {
              "outlinewidth": 0,
              "ticks": ""
             }
            },
            "type": "scatterternary"
           }
          ],
          "surface": [
           {
            "colorbar": {
             "outlinewidth": 0,
             "ticks": ""
            },
            "colorscale": [
             [
              0,
              "#0d0887"
             ],
             [
              0.1111111111111111,
              "#46039f"
             ],
             [
              0.2222222222222222,
              "#7201a8"
             ],
             [
              0.3333333333333333,
              "#9c179e"
             ],
             [
              0.4444444444444444,
              "#bd3786"
             ],
             [
              0.5555555555555556,
              "#d8576b"
             ],
             [
              0.6666666666666666,
              "#ed7953"
             ],
             [
              0.7777777777777778,
              "#fb9f3a"
             ],
             [
              0.8888888888888888,
              "#fdca26"
             ],
             [
              1,
              "#f0f921"
             ]
            ],
            "type": "surface"
           }
          ],
          "table": [
           {
            "cells": {
             "fill": {
              "color": "#EBF0F8"
             },
             "line": {
              "color": "white"
             }
            },
            "header": {
             "fill": {
              "color": "#C8D4E3"
             },
             "line": {
              "color": "white"
             }
            },
            "type": "table"
           }
          ]
         },
         "layout": {
          "annotationdefaults": {
           "arrowcolor": "#2a3f5f",
           "arrowhead": 0,
           "arrowwidth": 1
          },
          "autotypenumbers": "strict",
          "coloraxis": {
           "colorbar": {
            "outlinewidth": 0,
            "ticks": ""
           }
          },
          "colorscale": {
           "diverging": [
            [
             0,
             "#8e0152"
            ],
            [
             0.1,
             "#c51b7d"
            ],
            [
             0.2,
             "#de77ae"
            ],
            [
             0.3,
             "#f1b6da"
            ],
            [
             0.4,
             "#fde0ef"
            ],
            [
             0.5,
             "#f7f7f7"
            ],
            [
             0.6,
             "#e6f5d0"
            ],
            [
             0.7,
             "#b8e186"
            ],
            [
             0.8,
             "#7fbc41"
            ],
            [
             0.9,
             "#4d9221"
            ],
            [
             1,
             "#276419"
            ]
           ],
           "sequential": [
            [
             0,
             "#0d0887"
            ],
            [
             0.1111111111111111,
             "#46039f"
            ],
            [
             0.2222222222222222,
             "#7201a8"
            ],
            [
             0.3333333333333333,
             "#9c179e"
            ],
            [
             0.4444444444444444,
             "#bd3786"
            ],
            [
             0.5555555555555556,
             "#d8576b"
            ],
            [
             0.6666666666666666,
             "#ed7953"
            ],
            [
             0.7777777777777778,
             "#fb9f3a"
            ],
            [
             0.8888888888888888,
             "#fdca26"
            ],
            [
             1,
             "#f0f921"
            ]
           ],
           "sequentialminus": [
            [
             0,
             "#0d0887"
            ],
            [
             0.1111111111111111,
             "#46039f"
            ],
            [
             0.2222222222222222,
             "#7201a8"
            ],
            [
             0.3333333333333333,
             "#9c179e"
            ],
            [
             0.4444444444444444,
             "#bd3786"
            ],
            [
             0.5555555555555556,
             "#d8576b"
            ],
            [
             0.6666666666666666,
             "#ed7953"
            ],
            [
             0.7777777777777778,
             "#fb9f3a"
            ],
            [
             0.8888888888888888,
             "#fdca26"
            ],
            [
             1,
             "#f0f921"
            ]
           ]
          },
          "colorway": [
           "#636efa",
           "#EF553B",
           "#00cc96",
           "#ab63fa",
           "#FFA15A",
           "#19d3f3",
           "#FF6692",
           "#B6E880",
           "#FF97FF",
           "#FECB52"
          ],
          "font": {
           "color": "#2a3f5f"
          },
          "geo": {
           "bgcolor": "white",
           "lakecolor": "white",
           "landcolor": "#E5ECF6",
           "showlakes": true,
           "showland": true,
           "subunitcolor": "white"
          },
          "hoverlabel": {
           "align": "left"
          },
          "hovermode": "closest",
          "mapbox": {
           "style": "light"
          },
          "paper_bgcolor": "white",
          "plot_bgcolor": "#E5ECF6",
          "polar": {
           "angularaxis": {
            "gridcolor": "white",
            "linecolor": "white",
            "ticks": ""
           },
           "bgcolor": "#E5ECF6",
           "radialaxis": {
            "gridcolor": "white",
            "linecolor": "white",
            "ticks": ""
           }
          },
          "scene": {
           "xaxis": {
            "backgroundcolor": "#E5ECF6",
            "gridcolor": "white",
            "gridwidth": 2,
            "linecolor": "white",
            "showbackground": true,
            "ticks": "",
            "zerolinecolor": "white"
           },
           "yaxis": {
            "backgroundcolor": "#E5ECF6",
            "gridcolor": "white",
            "gridwidth": 2,
            "linecolor": "white",
            "showbackground": true,
            "ticks": "",
            "zerolinecolor": "white"
           },
           "zaxis": {
            "backgroundcolor": "#E5ECF6",
            "gridcolor": "white",
            "gridwidth": 2,
            "linecolor": "white",
            "showbackground": true,
            "ticks": "",
            "zerolinecolor": "white"
           }
          },
          "shapedefaults": {
           "line": {
            "color": "#2a3f5f"
           }
          },
          "ternary": {
           "aaxis": {
            "gridcolor": "white",
            "linecolor": "white",
            "ticks": ""
           },
           "baxis": {
            "gridcolor": "white",
            "linecolor": "white",
            "ticks": ""
           },
           "bgcolor": "#E5ECF6",
           "caxis": {
            "gridcolor": "white",
            "linecolor": "white",
            "ticks": ""
           }
          },
          "title": {
           "x": 0.05
          },
          "xaxis": {
           "automargin": true,
           "gridcolor": "white",
           "linecolor": "white",
           "ticks": "",
           "title": {
            "standoff": 15
           },
           "zerolinecolor": "white",
           "zerolinewidth": 2
          },
          "yaxis": {
           "automargin": true,
           "gridcolor": "white",
           "linecolor": "white",
           "ticks": "",
           "title": {
            "standoff": 15
           },
           "zerolinecolor": "white",
           "zerolinewidth": 2
          }
         }
        }
       }
      },
      "text/html": [
       "<div>                            <div id=\"4c4bb246-9d24-4ca3-83f9-9259e6180395\" class=\"plotly-graph-div\" style=\"height:525px; width:100%;\"></div>            <script type=\"text/javascript\">                require([\"plotly\"], function(Plotly) {                    window.PLOTLYENV=window.PLOTLYENV || {};                                    if (document.getElementById(\"4c4bb246-9d24-4ca3-83f9-9259e6180395\")) {                    Plotly.newPlot(                        \"4c4bb246-9d24-4ca3-83f9-9259e6180395\",                        [{\"x\":[\"2017\",\"2018\",\"2019\",\"2020\",\"2021\"],\"y\":[349067,324754,331626,394481,367051],\"type\":\"scatter\"}],                        {\"template\":{\"data\":{\"bar\":[{\"error_x\":{\"color\":\"#2a3f5f\"},\"error_y\":{\"color\":\"#2a3f5f\"},\"marker\":{\"line\":{\"color\":\"#E5ECF6\",\"width\":0.5},\"pattern\":{\"fillmode\":\"overlay\",\"size\":10,\"solidity\":0.2}},\"type\":\"bar\"}],\"barpolar\":[{\"marker\":{\"line\":{\"color\":\"#E5ECF6\",\"width\":0.5},\"pattern\":{\"fillmode\":\"overlay\",\"size\":10,\"solidity\":0.2}},\"type\":\"barpolar\"}],\"carpet\":[{\"aaxis\":{\"endlinecolor\":\"#2a3f5f\",\"gridcolor\":\"white\",\"linecolor\":\"white\",\"minorgridcolor\":\"white\",\"startlinecolor\":\"#2a3f5f\"},\"baxis\":{\"endlinecolor\":\"#2a3f5f\",\"gridcolor\":\"white\",\"linecolor\":\"white\",\"minorgridcolor\":\"white\",\"startlinecolor\":\"#2a3f5f\"},\"type\":\"carpet\"}],\"choropleth\":[{\"colorbar\":{\"outlinewidth\":0,\"ticks\":\"\"},\"type\":\"choropleth\"}],\"contour\":[{\"colorbar\":{\"outlinewidth\":0,\"ticks\":\"\"},\"colorscale\":[[0.0,\"#0d0887\"],[0.1111111111111111,\"#46039f\"],[0.2222222222222222,\"#7201a8\"],[0.3333333333333333,\"#9c179e\"],[0.4444444444444444,\"#bd3786\"],[0.5555555555555556,\"#d8576b\"],[0.6666666666666666,\"#ed7953\"],[0.7777777777777778,\"#fb9f3a\"],[0.8888888888888888,\"#fdca26\"],[1.0,\"#f0f921\"]],\"type\":\"contour\"}],\"contourcarpet\":[{\"colorbar\":{\"outlinewidth\":0,\"ticks\":\"\"},\"type\":\"contourcarpet\"}],\"heatmap\":[{\"colorbar\":{\"outlinewidth\":0,\"ticks\":\"\"},\"colorscale\":[[0.0,\"#0d0887\"],[0.1111111111111111,\"#46039f\"],[0.2222222222222222,\"#7201a8\"],[0.3333333333333333,\"#9c179e\"],[0.4444444444444444,\"#bd3786\"],[0.5555555555555556,\"#d8576b\"],[0.6666666666666666,\"#ed7953\"],[0.7777777777777778,\"#fb9f3a\"],[0.8888888888888888,\"#fdca26\"],[1.0,\"#f0f921\"]],\"type\":\"heatmap\"}],\"heatmapgl\":[{\"colorbar\":{\"outlinewidth\":0,\"ticks\":\"\"},\"colorscale\":[[0.0,\"#0d0887\"],[0.1111111111111111,\"#46039f\"],[0.2222222222222222,\"#7201a8\"],[0.3333333333333333,\"#9c179e\"],[0.4444444444444444,\"#bd3786\"],[0.5555555555555556,\"#d8576b\"],[0.6666666666666666,\"#ed7953\"],[0.7777777777777778,\"#fb9f3a\"],[0.8888888888888888,\"#fdca26\"],[1.0,\"#f0f921\"]],\"type\":\"heatmapgl\"}],\"histogram\":[{\"marker\":{\"pattern\":{\"fillmode\":\"overlay\",\"size\":10,\"solidity\":0.2}},\"type\":\"histogram\"}],\"histogram2d\":[{\"colorbar\":{\"outlinewidth\":0,\"ticks\":\"\"},\"colorscale\":[[0.0,\"#0d0887\"],[0.1111111111111111,\"#46039f\"],[0.2222222222222222,\"#7201a8\"],[0.3333333333333333,\"#9c179e\"],[0.4444444444444444,\"#bd3786\"],[0.5555555555555556,\"#d8576b\"],[0.6666666666666666,\"#ed7953\"],[0.7777777777777778,\"#fb9f3a\"],[0.8888888888888888,\"#fdca26\"],[1.0,\"#f0f921\"]],\"type\":\"histogram2d\"}],\"histogram2dcontour\":[{\"colorbar\":{\"outlinewidth\":0,\"ticks\":\"\"},\"colorscale\":[[0.0,\"#0d0887\"],[0.1111111111111111,\"#46039f\"],[0.2222222222222222,\"#7201a8\"],[0.3333333333333333,\"#9c179e\"],[0.4444444444444444,\"#bd3786\"],[0.5555555555555556,\"#d8576b\"],[0.6666666666666666,\"#ed7953\"],[0.7777777777777778,\"#fb9f3a\"],[0.8888888888888888,\"#fdca26\"],[1.0,\"#f0f921\"]],\"type\":\"histogram2dcontour\"}],\"mesh3d\":[{\"colorbar\":{\"outlinewidth\":0,\"ticks\":\"\"},\"type\":\"mesh3d\"}],\"parcoords\":[{\"line\":{\"colorbar\":{\"outlinewidth\":0,\"ticks\":\"\"}},\"type\":\"parcoords\"}],\"pie\":[{\"automargin\":true,\"type\":\"pie\"}],\"scatter\":[{\"marker\":{\"colorbar\":{\"outlinewidth\":0,\"ticks\":\"\"}},\"type\":\"scatter\"}],\"scatter3d\":[{\"line\":{\"colorbar\":{\"outlinewidth\":0,\"ticks\":\"\"}},\"marker\":{\"colorbar\":{\"outlinewidth\":0,\"ticks\":\"\"}},\"type\":\"scatter3d\"}],\"scattercarpet\":[{\"marker\":{\"colorbar\":{\"outlinewidth\":0,\"ticks\":\"\"}},\"type\":\"scattercarpet\"}],\"scattergeo\":[{\"marker\":{\"colorbar\":{\"outlinewidth\":0,\"ticks\":\"\"}},\"type\":\"scattergeo\"}],\"scattergl\":[{\"marker\":{\"colorbar\":{\"outlinewidth\":0,\"ticks\":\"\"}},\"type\":\"scattergl\"}],\"scattermapbox\":[{\"marker\":{\"colorbar\":{\"outlinewidth\":0,\"ticks\":\"\"}},\"type\":\"scattermapbox\"}],\"scatterpolar\":[{\"marker\":{\"colorbar\":{\"outlinewidth\":0,\"ticks\":\"\"}},\"type\":\"scatterpolar\"}],\"scatterpolargl\":[{\"marker\":{\"colorbar\":{\"outlinewidth\":0,\"ticks\":\"\"}},\"type\":\"scatterpolargl\"}],\"scatterternary\":[{\"marker\":{\"colorbar\":{\"outlinewidth\":0,\"ticks\":\"\"}},\"type\":\"scatterternary\"}],\"surface\":[{\"colorbar\":{\"outlinewidth\":0,\"ticks\":\"\"},\"colorscale\":[[0.0,\"#0d0887\"],[0.1111111111111111,\"#46039f\"],[0.2222222222222222,\"#7201a8\"],[0.3333333333333333,\"#9c179e\"],[0.4444444444444444,\"#bd3786\"],[0.5555555555555556,\"#d8576b\"],[0.6666666666666666,\"#ed7953\"],[0.7777777777777778,\"#fb9f3a\"],[0.8888888888888888,\"#fdca26\"],[1.0,\"#f0f921\"]],\"type\":\"surface\"}],\"table\":[{\"cells\":{\"fill\":{\"color\":\"#EBF0F8\"},\"line\":{\"color\":\"white\"}},\"header\":{\"fill\":{\"color\":\"#C8D4E3\"},\"line\":{\"color\":\"white\"}},\"type\":\"table\"}]},\"layout\":{\"annotationdefaults\":{\"arrowcolor\":\"#2a3f5f\",\"arrowhead\":0,\"arrowwidth\":1},\"autotypenumbers\":\"strict\",\"coloraxis\":{\"colorbar\":{\"outlinewidth\":0,\"ticks\":\"\"}},\"colorscale\":{\"diverging\":[[0,\"#8e0152\"],[0.1,\"#c51b7d\"],[0.2,\"#de77ae\"],[0.3,\"#f1b6da\"],[0.4,\"#fde0ef\"],[0.5,\"#f7f7f7\"],[0.6,\"#e6f5d0\"],[0.7,\"#b8e186\"],[0.8,\"#7fbc41\"],[0.9,\"#4d9221\"],[1,\"#276419\"]],\"sequential\":[[0.0,\"#0d0887\"],[0.1111111111111111,\"#46039f\"],[0.2222222222222222,\"#7201a8\"],[0.3333333333333333,\"#9c179e\"],[0.4444444444444444,\"#bd3786\"],[0.5555555555555556,\"#d8576b\"],[0.6666666666666666,\"#ed7953\"],[0.7777777777777778,\"#fb9f3a\"],[0.8888888888888888,\"#fdca26\"],[1.0,\"#f0f921\"]],\"sequentialminus\":[[0.0,\"#0d0887\"],[0.1111111111111111,\"#46039f\"],[0.2222222222222222,\"#7201a8\"],[0.3333333333333333,\"#9c179e\"],[0.4444444444444444,\"#bd3786\"],[0.5555555555555556,\"#d8576b\"],[0.6666666666666666,\"#ed7953\"],[0.7777777777777778,\"#fb9f3a\"],[0.8888888888888888,\"#fdca26\"],[1.0,\"#f0f921\"]]},\"colorway\":[\"#636efa\",\"#EF553B\",\"#00cc96\",\"#ab63fa\",\"#FFA15A\",\"#19d3f3\",\"#FF6692\",\"#B6E880\",\"#FF97FF\",\"#FECB52\"],\"font\":{\"color\":\"#2a3f5f\"},\"geo\":{\"bgcolor\":\"white\",\"lakecolor\":\"white\",\"landcolor\":\"#E5ECF6\",\"showlakes\":true,\"showland\":true,\"subunitcolor\":\"white\"},\"hoverlabel\":{\"align\":\"left\"},\"hovermode\":\"closest\",\"mapbox\":{\"style\":\"light\"},\"paper_bgcolor\":\"white\",\"plot_bgcolor\":\"#E5ECF6\",\"polar\":{\"angularaxis\":{\"gridcolor\":\"white\",\"linecolor\":\"white\",\"ticks\":\"\"},\"bgcolor\":\"#E5ECF6\",\"radialaxis\":{\"gridcolor\":\"white\",\"linecolor\":\"white\",\"ticks\":\"\"}},\"scene\":{\"xaxis\":{\"backgroundcolor\":\"#E5ECF6\",\"gridcolor\":\"white\",\"gridwidth\":2,\"linecolor\":\"white\",\"showbackground\":true,\"ticks\":\"\",\"zerolinecolor\":\"white\"},\"yaxis\":{\"backgroundcolor\":\"#E5ECF6\",\"gridcolor\":\"white\",\"gridwidth\":2,\"linecolor\":\"white\",\"showbackground\":true,\"ticks\":\"\",\"zerolinecolor\":\"white\"},\"zaxis\":{\"backgroundcolor\":\"#E5ECF6\",\"gridcolor\":\"white\",\"gridwidth\":2,\"linecolor\":\"white\",\"showbackground\":true,\"ticks\":\"\",\"zerolinecolor\":\"white\"}},\"shapedefaults\":{\"line\":{\"color\":\"#2a3f5f\"}},\"ternary\":{\"aaxis\":{\"gridcolor\":\"white\",\"linecolor\":\"white\",\"ticks\":\"\"},\"baxis\":{\"gridcolor\":\"white\",\"linecolor\":\"white\",\"ticks\":\"\"},\"bgcolor\":\"#E5ECF6\",\"caxis\":{\"gridcolor\":\"white\",\"linecolor\":\"white\",\"ticks\":\"\"}},\"title\":{\"x\":0.05},\"xaxis\":{\"automargin\":true,\"gridcolor\":\"white\",\"linecolor\":\"white\",\"ticks\":\"\",\"title\":{\"standoff\":15},\"zerolinecolor\":\"white\",\"zerolinewidth\":2},\"yaxis\":{\"automargin\":true,\"gridcolor\":\"white\",\"linecolor\":\"white\",\"ticks\":\"\",\"title\":{\"standoff\":15},\"zerolinecolor\":\"white\",\"zerolinewidth\":2}}}},                        {\"responsive\": true}                    ).then(function(){\n",
       "                            \n",
       "var gd = document.getElementById('4c4bb246-9d24-4ca3-83f9-9259e6180395');\n",
       "var x = new MutationObserver(function (mutations, observer) {{\n",
       "        var display = window.getComputedStyle(gd).display;\n",
       "        if (!display || display === 'none') {{\n",
       "            console.log([gd, 'removed!']);\n",
       "            Plotly.purge(gd);\n",
       "            observer.disconnect();\n",
       "        }}\n",
       "}});\n",
       "\n",
       "// Listen for the removal of the full notebook cells\n",
       "var notebookContainer = gd.closest('#notebook-container');\n",
       "if (notebookContainer) {{\n",
       "    x.observe(notebookContainer, {childList: true});\n",
       "}}\n",
       "\n",
       "// Listen for the clearing of the current output cell\n",
       "var outputEl = gd.closest('.output');\n",
       "if (outputEl) {{\n",
       "    x.observe(outputEl, {childList: true});\n",
       "}}\n",
       "\n",
       "                        })                };                });            </script>        </div>"
      ]
     },
     "metadata": {},
     "output_type": "display_data"
    }
   ],
   "source": [
    "data = {\n",
    "    'x':year_accidents.keys(),\n",
    "    'y': year_accidents.tolist(),\n",
    "    'type':'scatter'\n",
    "}\n",
    "\n",
    "fig = go.Figure(data=data)\n",
    "fig"
   ]
  },
  {
   "cell_type": "markdown",
   "metadata": {},
   "source": [
    "### Perguntas"
   ]
  },
  {
   "cell_type": "markdown",
   "metadata": {},
   "source": [
    "* Quais os dias da semana com o maior número de acidentes?\n",
    "* Qual o total de mortos, feridos e ilesos?\n",
    "* Qual o número de acidentes por ano?\n",
    "* Quais são os 10 principais motivos dos acidentes nas rodovias?\n",
    "* Quantidade de acidentes por estado?\n",
    "* Quais as 10 rodovias com mais acidentes?\n",
    "* Quais são os 10 veículos que mais se envolveram em acidentes?"
   ]
  },
  {
   "cell_type": "code",
   "execution_count": null,
   "metadata": {},
   "outputs": [],
   "source": []
  }
 ],
 "metadata": {
  "kernelspec": {
   "display_name": "Python 3",
   "language": "python",
   "name": "python3"
  },
  "language_info": {
   "codemirror_mode": {
    "name": "ipython",
    "version": 3
   },
   "file_extension": ".py",
   "mimetype": "text/x-python",
   "name": "python",
   "nbconvert_exporter": "python",
   "pygments_lexer": "ipython3",
   "version": "3.8.10"
  }
 },
 "nbformat": 4,
 "nbformat_minor": 5
}
